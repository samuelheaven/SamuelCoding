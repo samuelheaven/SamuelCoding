{
 "cells": [
  {
   "cell_type": "code",
   "execution_count": null,
   "id": "bfb4239b",
   "metadata": {},
   "outputs": [],
   "source": []
  },
  {
   "cell_type": "markdown",
   "id": "0c6b5721",
   "metadata": {},
   "source": [
    "# i = 12 #Number without a decimal is Integer\n",
    "f = 10.10 #Numebr with decimal is float\n",
    "x = 2+3j #number with real and imaginary value- complex number\n",
    "\n",
    "print(i,f,x)\n"
   ]
  },
  {
   "cell_type": "markdown",
   "id": "3b837703",
   "metadata": {},
   "source": [
    "# Identifying the data types"
   ]
  },
  {
   "cell_type": "code",
   "execution_count": 3,
   "id": "556cb904",
   "metadata": {},
   "outputs": [
    {
     "name": "stdout",
     "output_type": "stream",
     "text": [
      "<class 'int'>\n",
      "<class 'float'>\n",
      "<class 'complex'>\n"
     ]
    }
   ],
   "source": [
    "print(type(i))\n",
    "print(type(f))\n",
    "print(type(x))"
   ]
  },
  {
   "cell_type": "markdown",
   "id": "35695cf2",
   "metadata": {},
   "source": [
    "# Types of operators"
   ]
  },
  {
   "cell_type": "code",
   "execution_count": 5,
   "id": "a7c01f4a",
   "metadata": {},
   "outputs": [
    {
     "name": "stdout",
     "output_type": "stream",
     "text": [
      "Addition of x+y = 25\n",
      "Addition of x-y = 15\n",
      "Addition of x*y = 100\n"
     ]
    }
   ],
   "source": [
    "#Arithmetic operators\n",
    "#Sample code\n",
    "\n",
    "x = 20\n",
    "y = 5\n",
    "\n",
    "#Additional operator\n",
    "print('Addition of x+y =',x+y)\n",
    "\n",
    "#subtraction operator\n",
    "print('Addition of x-y =',x-y)\n",
    "\n",
    "#Multiplication operator\n",
    "print('Addition of x*y =',x*y)"
   ]
  },
  {
   "cell_type": "code",
   "execution_count": 6,
   "id": "4912d8a9",
   "metadata": {},
   "outputs": [
    {
     "name": "stdout",
     "output_type": "stream",
     "text": [
      "4.5\n",
      "<class 'float'>\n"
     ]
    }
   ],
   "source": [
    "#Note, when multiplying the float and integer value the result will be float\n",
    "j = 3*1.5\n",
    "print(j)\n",
    "print(type(j))"
   ]
  },
  {
   "cell_type": "code",
   "execution_count": 1,
   "id": "d25d0825",
   "metadata": {},
   "outputs": [
    {
     "name": "stdout",
     "output_type": "stream",
     "text": [
      "float of x/y = 3.3333333333333335\n",
      "integer of x//y = 3\n",
      "integer division of negative number= -4\n"
     ]
    }
   ],
   "source": [
    "x = 10\n",
    "y = 3\n",
    "\n",
    "#float Division operator\n",
    "print('float of x/y =',x/y)\n",
    "\n",
    "#integer Division operator\n",
    "print('integer of x//y =',x//y)\n",
    "\n",
    "\n",
    "#integer Division for negative value\n",
    "print('integer division of negative number=',-10//3)"
   ]
  },
  {
   "cell_type": "code",
   "execution_count": 2,
   "id": "c500d569",
   "metadata": {},
   "outputs": [
    {
     "name": "stdout",
     "output_type": "stream",
     "text": [
      "modular of x%y = 1\n"
     ]
    }
   ],
   "source": [
    "x = 5\n",
    "y = 2\n",
    "\n",
    "#modular operator\n",
    "print('modular of x%y =',x%y)"
   ]
  },
  {
   "cell_type": "code",
   "execution_count": 4,
   "id": "727a9e20",
   "metadata": {},
   "outputs": [
    {
     "name": "stdout",
     "output_type": "stream",
     "text": [
      "Exponentiation of x to the power y = 25\n"
     ]
    }
   ],
   "source": [
    "#exponentiation operator\n",
    "x = 5\n",
    "y = 2\n",
    "print('Exponentiation of x to the power y =',x**y)"
   ]
  },
  {
   "cell_type": "markdown",
   "id": "4f6007a4",
   "metadata": {},
   "source": [
    "# Comparison operator"
   ]
  },
  {
   "cell_type": "code",
   "execution_count": 6,
   "id": "6f075a75",
   "metadata": {},
   "outputs": [
    {
     "name": "stdout",
     "output_type": "stream",
     "text": [
      "50 > 30 True\n"
     ]
    }
   ],
   "source": [
    "#SAmple code for comparison operator\n",
    "a = 50\n",
    "b = 30\n",
    "\n",
    "print('{} > {}'.format(a,b),a>b)"
   ]
  },
  {
   "cell_type": "code",
   "execution_count": 8,
   "id": "3c7d123a",
   "metadata": {},
   "outputs": [
    {
     "name": "stdout",
     "output_type": "stream",
     "text": [
      "50 > 30 True\n",
      "50 < 30 False\n",
      "50 == 30 False\n",
      "50 != 30 True\n",
      "50 >= 30 True\n",
      "50 <= 30 False\n"
     ]
    }
   ],
   "source": [
    "# comparison code\n",
    "a = 50\n",
    "b = 30\n",
    "\n",
    "#Greater than\n",
    "print('{} > {}'.format(a,b),a>b)\n",
    "\n",
    "#Less than\n",
    "print('{} < {}'.format(a,b),a<b)\n",
    "\n",
    "#Equal to\n",
    "print('{} == {}'.format(a,b),a==b)\n",
    "\n",
    "#Not equal to\n",
    "print('{} != {}'.format(a,b),a!=b)\n",
    "\n",
    "#Greater than or equal to\n",
    "print('{} >= {}'.format(a,b),a>b)\n",
    "\n",
    "#Less than or equal to\n",
    "print('{} <= {}'.format(a,b),a<=b)"
   ]
  },
  {
   "cell_type": "markdown",
   "id": "f9201a34",
   "metadata": {},
   "source": [
    "# Logical Operators"
   ]
  },
  {
   "cell_type": "code",
   "execution_count": null,
   "id": "4b03f5be",
   "metadata": {},
   "outputs": [],
   "source": [
    "#And or Not"
   ]
  },
  {
   "cell_type": "code",
   "execution_count": 19,
   "id": "c986f25a",
   "metadata": {},
   "outputs": [
    {
     "name": "stdout",
     "output_type": "stream",
     "text": [
      "a or b True\n",
      "True\n",
      "**************\n",
      "not a is False\n",
      "True\n",
      "False\n",
      "**************\n",
      "a and b False\n",
      "False\n"
     ]
    }
   ],
   "source": [
    "#Logical operator code\n",
    "\n",
    "a = True\n",
    "b = False\n",
    "\n",
    "x = 50\n",
    "y = 100\n",
    "\n",
    "# or operator\n",
    "print('a or b',a or b)\n",
    "print(x==y or x<y)\n",
    "\n",
    "print(\"**************\")\n",
    "\n",
    "# And operator\n",
    "print('not a is',not a)\n",
    "print(not x==y)\n",
    "print(not x<y)\n",
    "\n",
    "print(\"**************\")\n",
    "\n",
    "#And operator\n",
    "print('a and b',a and b)\n",
    "print(x==y and x<y)"
   ]
  },
  {
   "cell_type": "markdown",
   "id": "c01943a6",
   "metadata": {},
   "source": [
    "# Augmented Assignment operators"
   ]
  },
  {
   "cell_type": "code",
   "execution_count": null,
   "id": "59dc06fc",
   "metadata": {},
   "outputs": [],
   "source": [
    "# Assignment =\n",
    "# Additional assignment +=\n",
    "# Subtractional assignment -=\n",
    "# Multiplication assignment *=\n",
    "# Float division assignment /=\n",
    "# Integer division assignment //=\n",
    "# Modulas or remainder assignment %=\n",
    "# Exponent assignment **="
   ]
  },
  {
   "cell_type": "code",
   "execution_count": 5,
   "id": "285460e2",
   "metadata": {},
   "outputs": [
    {
     "name": "stdout",
     "output_type": "stream",
     "text": [
      "simple expression value is 2\n",
      "Additional expression value is 2\n",
      "Minus expression value is 5\n",
      "Multiplication expression value is 9\n"
     ]
    }
   ],
   "source": [
    "# Simple expression\n",
    "i = 1\n",
    "i = i + 1\n",
    "print('simple expression value is',i)\n",
    "\n",
    "# Additional assignment\n",
    "j = 1\n",
    "j +=1 # Thsis means j = j+1\n",
    "print('Additional expression value is',j)\n",
    "\n",
    "# Minus assignment\n",
    "k = 10\n",
    "k -=5 # Thsis means j = j+1\n",
    "print('Minus expression value is',k)\n",
    "\n",
    "# Multiplication assignment\n",
    "l = 3\n",
    "l *=3 # Thsis means j = j+1\n",
    "print('Multiplication expression value is',l)"
   ]
  },
  {
   "cell_type": "markdown",
   "id": "4eddad20",
   "metadata": {},
   "source": [
    "# Bitwise Operators"
   ]
  },
  {
   "cell_type": "code",
   "execution_count": 6,
   "id": "2154bce6",
   "metadata": {},
   "outputs": [],
   "source": [
    "#Bitwise are used to compare(Binary)numbers. It works on bit by bit operation\n",
    "# & = AND\n",
    "# | = OR\n",
    "# ^ = XOR\n",
    "# ~ = NOT\n",
    "# >> = Signed right shift\n",
    "# << = Zero fill left Shift\n",
    "\n",
    "Binary Number\n",
    "\n",
    "Method to convert a number to binary number\n",
    "syntax: '{0:08b}'.format(number)\n",
    "    \n",
    "Where,\n",
    "{} - places a variable into a string\n",
    "0 - takes a variable at argument position 0\n"
   ]
  },
  {
   "cell_type": "code",
   "execution_count": 8,
   "id": "a08137ea",
   "metadata": {},
   "outputs": [
    {
     "name": "stdout",
     "output_type": "stream",
     "text": [
      "Binary number for 17 is 00010001\n",
      "Binary number for 10 is 00001010\n"
     ]
    }
   ],
   "source": [
    "#code sample\n",
    "\n",
    "a = 17\n",
    "b = 10\n",
    "\n",
    "print(\"Binary number for {0} is {0:08b}\".format(a))\n",
    "print(\"Binary number for {0} is {0:08b}\".format(b))"
   ]
  },
  {
   "cell_type": "code",
   "execution_count": 16,
   "id": "e5935b73",
   "metadata": {
    "scrolled": true
   },
   "outputs": [
    {
     "name": "stdout",
     "output_type": "stream",
     "text": [
      "Binary AND value is 0\n",
      "Binary OR value is 27\n",
      "Binary XOR value is 27\n",
      "Binary Ones complement is -18\n",
      "Binary Right Shift is 4\n",
      "Binary Left Shift is 68\n"
     ]
    }
   ],
   "source": [
    "# Binary AND - sets each bit to 1 if both bits are 1\n",
    "# 00000000\n",
    "print('Binary AND value is',a&b)\n",
    "\n",
    "#Binary OR - sets each bit to 1 if one of two bits is 1\n",
    "#00011011\n",
    "print('Binary OR value is',a|b)\n",
    "\n",
    "#Binary XOR - sets each bit to 1 if only one of two bits is 1\n",
    "#00011011\n",
    "print('Binary XOR value is',a^b)\n",
    "\n",
    "#Binary ones complement - Inverts all the bits\n",
    "#11101110\n",
    "print('Binary Ones complement is',~a)\n",
    "\n",
    "#Binary shift right\n",
    "print('Binary Right Shift is',a>>2)\n",
    "\n",
    "#Binary shift left\n",
    "print('Binary Left Shift is',a<<2)"
   ]
  },
  {
   "cell_type": "markdown",
   "id": "9d061644",
   "metadata": {},
   "source": [
    "# Identity and Membership Operators"
   ]
  },
  {
   "cell_type": "code",
   "execution_count": null,
   "id": "1b010d16",
   "metadata": {},
   "outputs": [],
   "source": [
    "Agenda:\n",
    "1. what is identity operator\n",
    "2. Sample code of 'is' operator\n",
    "3. Sample code of 'is not' operator\n",
    "4. What is membership operator\n",
    "5. Sample code of 'in'operator\n",
    "6. Sample code of 'not in' operator"
   ]
  },
  {
   "cell_type": "code",
   "execution_count": null,
   "id": "f2a9a547",
   "metadata": {},
   "outputs": [],
   "source": [
    "Identity Operators\n",
    "# idendtity operators are used to compare the memory locations of two objects.\n",
    "# 'is' and 'is not' are the identity operators in python\n",
    "# Output will be boolean value (TRUE of FALSE)\n",
    "\n",
    "#is- True if the operands are identical(refer to the same object)\n",
    "#is not - True if the operands are not identical(do not refer to the same object)"
   ]
  },
  {
   "cell_type": "code",
   "execution_count": 35,
   "id": "6b217d7b",
   "metadata": {},
   "outputs": [
    {
     "name": "stdout",
     "output_type": "stream",
     "text": [
      "Memory location of x is 1819451222608\n",
      "Memory location of y is 1819451222608\n",
      "True\n",
      "Memory location of a is 1819453347888\n",
      "Memory location of b is 1819453347888\n",
      "True\n",
      "Memory location of N1 is 1819535852224\n",
      "Memory location of N2 is 1819535852736\n",
      "False\n"
     ]
    }
   ],
   "source": [
    "#example1-Number using 'is' operator\n",
    "x = 10\n",
    "print(\"Memory location of x is\",id(x))\n",
    "\n",
    "y = 10\n",
    "print(\"Memory location of y is\",id(y))\n",
    "\n",
    "print(x is y)\n",
    "\n",
    "#example2-String using 'is' operator\n",
    "a = \"Python\"\n",
    "print(\"Memory location of a is\",id(a))\n",
    "\n",
    "b = \"Python\"\n",
    "print(\"Memory location of b is\",id(b))\n",
    "\n",
    "print(a is b)\n",
    "\n",
    "#example3-List using 'is' operator\n",
    "N1 = [1,2,3,4]\n",
    "print(\"Memory location of N1 is\",id(N1))\n",
    "\n",
    "N2 = [1,2,3,4]\n",
    "print(\"Memory location of N2 is\",id(N2))\n",
    "\n",
    "print(N1 is N2)"
   ]
  },
  {
   "cell_type": "code",
   "execution_count": 38,
   "id": "991362c4",
   "metadata": {},
   "outputs": [
    {
     "name": "stdout",
     "output_type": "stream",
     "text": [
      "False\n",
      "True\n"
     ]
    }
   ],
   "source": [
    "#Is Not Example\n",
    "#example1-Number using 'is not' operator\n",
    "\n",
    "x = 10\n",
    "y = 10\n",
    "\n",
    "print(x is not y)\n",
    "\n",
    "a = 20\n",
    "b = 10\n",
    "\n",
    "print(a is not b)\n"
   ]
  },
  {
   "cell_type": "code",
   "execution_count": 37,
   "id": "1a55e9f5",
   "metadata": {},
   "outputs": [
    {
     "name": "stdout",
     "output_type": "stream",
     "text": [
      "False\n"
     ]
    }
   ],
   "source": [
    "#example2-String using 'is not' operator\n",
    "s1 = \"Python\"\n",
    "s2 = \"Python\"\n",
    "print(s1 is not s2)\n"
   ]
  },
  {
   "cell_type": "code",
   "execution_count": 39,
   "id": "5728cf11",
   "metadata": {},
   "outputs": [
    {
     "name": "stdout",
     "output_type": "stream",
     "text": [
      "True\n"
     ]
    }
   ],
   "source": [
    "#example3-List using 'is not' operator\n",
    "N1 = [1,2,3,4]\n",
    "N2 = [1,2,3,4]\n",
    "\n",
    "print(N1 is not N2)"
   ]
  },
  {
   "cell_type": "code",
   "execution_count": null,
   "id": "7ef0fe97",
   "metadata": {},
   "outputs": [],
   "source": [
    "Conclusion:'Is' operator will display if memory address is same and \n",
    "           'is not'operator will display true if the memory address is different. i.e exactly opposite"
   ]
  },
  {
   "cell_type": "markdown",
   "id": "eac1a967",
   "metadata": {},
   "source": [
    "# Membership Operator"
   ]
  },
  {
   "cell_type": "raw",
   "id": "47acebb6",
   "metadata": {},
   "source": [
    "Memeber ship operators are used to test whether a value or variable is found in a sequence(E.G, String,List,Tuple, Set and Dictionary.\n",
    "'in' and 'not in' are membership operators in python\n",
    "\n",
    "# in- Tru if value/variable is found in sequence\n",
    "# not in- Tru if value/variable is not foun in sequence"
   ]
  },
  {
   "cell_type": "code",
   "execution_count": 48,
   "id": "9aeae7f1",
   "metadata": {},
   "outputs": [
    {
     "name": "stdout",
     "output_type": "stream",
     "text": [
      "True\n",
      "True\n",
      "1 2 3 True\n",
      "False\n"
     ]
    }
   ],
   "source": [
    "# 'in'code example\n",
    "mylist = [1,2,3,4,\"Python\",10]\n",
    "\n",
    "print(10 in mylist)\n",
    "print(\"Python\"in mylist)\n",
    "print(1,2,3,4 in mylist)\n",
    "print(20 in mylist)"
   ]
  },
  {
   "cell_type": "code",
   "execution_count": 54,
   "id": "4009b8bb",
   "metadata": {},
   "outputs": [
    {
     "name": "stdout",
     "output_type": "stream",
     "text": [
      "True\n",
      "False\n"
     ]
    }
   ],
   "source": [
    "# 'not in'code example\n",
    "\n",
    "mylist2 = [1,12.5,\"java\",20]\n",
    "print(10 not in mylist2)\n",
    "print(1 not in mylist)"
   ]
  },
  {
   "cell_type": "markdown",
   "id": "61345351",
   "metadata": {},
   "source": [
    "# Section3: Control Statements-If and If Else Statements"
   ]
  },
  {
   "cell_type": "code",
   "execution_count": null,
   "id": "7aef246c",
   "metadata": {},
   "outputs": [],
   "source": [
    "Agenda:\n",
    "1. Python Identation\n",
    "2. Python Control Statement\n",
    "3. If statement\n",
    "4. Sample program 1\n",
    "5. Sample program 2\n",
    "6. if else statement\n",
    "7. Sample program 1\n",
    "8. Sample program 2"
   ]
  },
  {
   "cell_type": "code",
   "execution_count": null,
   "id": "16050388",
   "metadata": {},
   "outputs": [],
   "source": [
    "# python control statements are used for decision making.\n",
    "# python ahs 4 types of control statement:\n",
    "1. if\n",
    "2. id else\n",
    "3. if elif else\n",
    "4. nested if"
   ]
  },
  {
   "cell_type": "code",
   "execution_count": 55,
   "id": "dbe292dd",
   "metadata": {},
   "outputs": [
    {
     "name": "stdout",
     "output_type": "stream",
     "text": [
      "User is 18 or younger\n"
     ]
    }
   ],
   "source": [
    "1.# 'if'statement Example code\n",
    "# program to check whether the user age is below 18 or not\n",
    "\n",
    "user_age = 15\n",
    "\n",
    "if (user_age <= 18):\n",
    "    print(\"User is 18 or younger\")   "
   ]
  },
  {
   "cell_type": "code",
   "execution_count": 58,
   "id": "bed91eaf",
   "metadata": {},
   "outputs": [
    {
     "name": "stdout",
     "output_type": "stream",
     "text": [
      "This line will be executed always \n"
     ]
    }
   ],
   "source": [
    "2.# 'if'Example code\n",
    "# program to check whether the user age is below 18 or not\n",
    "# if the condition is False,the statement below the condition will be executed as it does not form part or within the condition\n",
    "\n",
    "user_age = 20\n",
    "\n",
    "if (user_age <= 18):\n",
    "    print(\"User is 18 or younger\")\n",
    "    \n",
    "print(\"This line will be executed always \")"
   ]
  },
  {
   "cell_type": "code",
   "execution_count": 60,
   "id": "4bdbaba6",
   "metadata": {},
   "outputs": [
    {
     "name": "stdout",
     "output_type": "stream",
     "text": [
      "User is above 18\n"
     ]
    }
   ],
   "source": [
    "2. #if else statement\n",
    "\n",
    "1.# 'if else'statement Example code\n",
    "# program to check whether the user age is below 18 or not\n",
    "# else statement is executed when the condition is false or not met\n",
    "\n",
    "user_age = 20\n",
    "\n",
    "if (user_age <= 18):\n",
    "    print(\"User is 18 or younger\")\n",
    "else:\n",
    "    print(\"User is above 18\")  "
   ]
  },
  {
   "cell_type": "code",
   "execution_count": 64,
   "id": "35cbf276",
   "metadata": {},
   "outputs": [
    {
     "name": "stdout",
     "output_type": "stream",
     "text": [
      "Negative number\n"
     ]
    }
   ],
   "source": [
    "2. #if else statement\n",
    "\n",
    "1.# 'if else'statement Example code\n",
    "# program to verify whether the number is positive or not\n",
    "# else statement is executed when the condition is false or not met\n",
    "\n",
    "num = -1 #execute twice with negative value\n",
    "\n",
    "if num > 0:\n",
    "    print(\"positive number\")\n",
    "else:\n",
    "    print(\"Negative number\")"
   ]
  },
  {
   "cell_type": "code",
   "execution_count": null,
   "id": "36f40381",
   "metadata": {},
   "outputs": [],
   "source": [
    "Agenda:\n",
    "1. if elif else statement\n",
    "2. Sample program 1\n",
    "3. Sample program 2\n",
    "4. Sample program 3\n",
    "5. Nested if statement\n",
    "6. Sample program 1"
   ]
  },
  {
   "cell_type": "code",
   "execution_count": null,
   "id": "2b3cd268",
   "metadata": {},
   "outputs": [],
   "source": [
    "# if elif else\n",
    "-it allows us to check for multiple expressions\n",
    "-if the condition for if is False, it checks the condition of the next elif block and so on.\n",
    "-if all the conditions are False, body of else is executed\n",
    "\n",
    "Note: The if block can have only one else block, but it can have multiple elif blocks.\n"
   ]
  },
  {
   "cell_type": "code",
   "execution_count": 66,
   "id": "9702c863",
   "metadata": {},
   "outputs": [
    {
     "name": "stdout",
     "output_type": "stream",
     "text": [
      "Number is Zero\n"
     ]
    }
   ],
   "source": [
    "# if elif else\n",
    "# program to verify whether the number is positive or not\n",
    "num = 0\n",
    "\n",
    "if num > 0:\n",
    "    print(\"positive number\")\n",
    "elif num == 0:\n",
    "    print(\"Number is Zero\")\n",
    "else:\n",
    "    print(\"Negative number\")\n",
    "    \n",
    "    "
   ]
  },
  {
   "cell_type": "code",
   "execution_count": 72,
   "id": "fc0b2e27",
   "metadata": {},
   "outputs": [
    {
     "name": "stdout",
     "output_type": "stream",
     "text": [
      "Three digit number\n"
     ]
    }
   ],
   "source": [
    "# if elif else\n",
    "# program to verify total number of digits\n",
    "num = 100\n",
    "if 9 < num < 99:\n",
    "    print(\"Two digit number\")\n",
    "elif 99 < num < 999:\n",
    "    print(\"Three digit number\")\n",
    "elif 999 < num <9999:\n",
    "    print(\"Four digit number\")\n",
    "else:\n",
    "    print(\"Number is not in the mentioned range\")\n",
    "      "
   ]
  },
  {
   "cell_type": "code",
   "execution_count": 75,
   "id": "132762d9",
   "metadata": {},
   "outputs": [
    {
     "name": "stdout",
     "output_type": "stream",
     "text": [
      "Enter a valid number\n"
     ]
    }
   ],
   "source": [
    "# if elif else\n",
    "# program to display the month name\n",
    "\n",
    "month_num = 13\n",
    "if month_num == 1:\n",
    "    print(\"January Month\")\n",
    "elif month_num == 2:\n",
    "    print(\"February Month\")\n",
    "elif month_num == 3:\n",
    "    print(\"March Month\")\n",
    "elif month_num == 4:\n",
    "    print(\"April Month\")\n",
    "elif month_num == 5:\n",
    "    print(\"May Month\")\n",
    "elif month_num == 6:\n",
    "    print(\"June Month\")\n",
    "elif month_num == 7:\n",
    "    print(\"July Month\")\n",
    "elif month_num == 8:\n",
    "    print(\"August Month\")\n",
    "elif month_num == 9:\n",
    "    print(\"September Month\")\n",
    "elif month_num == 10:\n",
    "    print(\"October Month\")\n",
    "elif month_num == 11:\n",
    "    print(\"November Month\")\n",
    "elif month_num == 12:\n",
    "    print(\"December Month\")\n",
    "else:\n",
    "    print(\"Enter a valid number\")\n",
    "    \n",
    "    "
   ]
  },
  {
   "cell_type": "code",
   "execution_count": 81,
   "id": "3701dce6",
   "metadata": {},
   "outputs": [
    {
     "name": "stdout",
     "output_type": "stream",
     "text": [
      "Zero\n"
     ]
    }
   ],
   "source": [
    "# Nested if statement \n",
    "#Notes: if you can avoid nested if as it may confuse other people\n",
    "# Program to verify whether the number is positive or not\n",
    "\n",
    "num = 0\n",
    "if num >= 0:\n",
    "    if num == 0:\n",
    "        print(\"Zero\")\n",
    "    else:\n",
    "        print(\"Positive Number\")\n",
    "else:\n",
    "    print(\"Negative number\")"
   ]
  },
  {
   "cell_type": "markdown",
   "id": "a7fcc1b3",
   "metadata": {},
   "source": [
    "# Python While Loop Statement"
   ]
  },
  {
   "cell_type": "code",
   "execution_count": null,
   "id": "aae7ebfa",
   "metadata": {},
   "outputs": [],
   "source": [
    "Agenda:\n",
    "1. Python Loop\n",
    "2. While Loop\n",
    "3. Sample program\n",
    "4. Using Else statement with loop\n",
    "5. Sample program\n",
    "6. Infinite Loop\n",
    "7. Sample program"
   ]
  },
  {
   "cell_type": "code",
   "execution_count": null,
   "id": "211b88fd",
   "metadata": {},
   "outputs": [],
   "source": [
    "# Python loop allows us to execute a statement or group of statements multiple times.\n",
    "# Python has two primitive loop commands:\n",
    ". while loops\n",
    ". for loops\n",
    "# while loop- is used to iterate over a block of code as long as the test expression(condition)is true"
   ]
  },
  {
   "cell_type": "code",
   "execution_count": 85,
   "id": "1c34737c",
   "metadata": {},
   "outputs": [
    {
     "name": "stdout",
     "output_type": "stream",
     "text": [
      "0\n",
      "1\n",
      "2\n",
      "3\n",
      "4\n",
      "5\n",
      "Execution Completed!\n"
     ]
    }
   ],
   "source": [
    "# while loop\n",
    "# program to print numbers in ascending order till the mentioned limit\n",
    "\n",
    "i = 0\n",
    "while i<=5:\n",
    "    print(i)\n",
    "    i +=1\n",
    "    \n",
    "print(\"Execution Completed!\")\n"
   ]
  },
  {
   "cell_type": "markdown",
   "id": "03b947c3",
   "metadata": {},
   "source": [
    "# Using else Statement with Loops"
   ]
  },
  {
   "cell_type": "code",
   "execution_count": 86,
   "id": "00f8f7d6",
   "metadata": {},
   "outputs": [
    {
     "name": "stdout",
     "output_type": "stream",
     "text": [
      "0\n",
      "1\n",
      "2\n",
      "3\n",
      "4\n",
      "5\n",
      "Else statement is executed at the end as mandatory\n",
      "Execution Completed!\n"
     ]
    }
   ],
   "source": [
    " # else statemene with loop\n",
    "# program to print numbers in ascending order till the mentioned limit\n",
    "\n",
    "i = 0\n",
    "while i<=5:\n",
    "    print(i)\n",
    "    i +=1\n",
    "else:\n",
    "    print(\"Else statement is executed at the end as mandatory\")\n",
    "    \n",
    "print(\"Execution Completed!\")\n",
    "\n"
   ]
  },
  {
   "cell_type": "markdown",
   "id": "55070ffd",
   "metadata": {},
   "source": [
    "# Python For Loop Statement"
   ]
  },
  {
   "cell_type": "code",
   "execution_count": null,
   "id": "5c9a96da",
   "metadata": {},
   "outputs": [],
   "source": [
    "Agenda:\n",
    "1. What is For Loop?\n",
    "2. For loop with else statement\n",
    "3. Looping through string\n",
    "4. Range function\n",
    "5. iterating by sequence index\n",
    "6. Nested For Loop\n",
    "7. 12 Sample programs"
   ]
  },
  {
   "cell_type": "markdown",
   "id": "286d100b",
   "metadata": {},
   "source": [
    "# For Loop"
   ]
  },
  {
   "cell_type": "code",
   "execution_count": null,
   "id": "fe5fab7f",
   "metadata": {},
   "outputs": [],
   "source": [
    ". For Loop in python is used to iterate over a sequence (list, tuple, string) or other iterable objects.\n",
    ". Iterating over a sequence is called traversal"
   ]
  },
  {
   "cell_type": "markdown",
   "id": "8d7fcbe3",
   "metadata": {},
   "source": [
    "# Syntax"
   ]
  },
  {
   "cell_type": "code",
   "execution_count": null,
   "id": "86c98ddd",
   "metadata": {},
   "outputs": [],
   "source": [
    "for iteration_var in sequence:\n",
    "    statement(s)"
   ]
  },
  {
   "cell_type": "code",
   "execution_count": null,
   "id": "fe417002",
   "metadata": {},
   "outputs": [],
   "source": [
    "The first item in the sequence is assigned to the iterating variable iterating_var.\n",
    "Next, the statements block is executed. Each item in the list is assigned to iterating_var\n",
    "statement(s) block is executed until the entire sequence is exhausted."
   ]
  },
  {
   "cell_type": "code",
   "execution_count": 88,
   "id": "de7a5b51",
   "metadata": {},
   "outputs": [
    {
     "name": "stdout",
     "output_type": "stream",
     "text": [
      "Apple\n",
      "Banana\n",
      "Cherry\n",
      "Mango\n",
      "Pineapple\n",
      "Jackfruit\n"
     ]
    }
   ],
   "source": [
    "# Program to print the fruits available inside the list\n",
    "fruits = [\"Apple\",\"Banana\",\"Cherry\",\"Mango\",\"Pineapple\",\"Jackfruit\"]\n",
    "\n",
    "for i in fruits:\n",
    "    print(i)"
   ]
  },
  {
   "cell_type": "code",
   "execution_count": 89,
   "id": "e54ebea1",
   "metadata": {},
   "outputs": [
    {
     "name": "stdout",
     "output_type": "stream",
     "text": [
      "1\n",
      "5\n",
      "10\n",
      "15\n",
      "45\n",
      "50\n"
     ]
    }
   ],
   "source": [
    "# Program to print the numbers available inside the list\n",
    "numbers = [1,5,10,15,45,50]\n",
    "\n",
    "for n in numbers:\n",
    "    print(n)  "
   ]
  },
  {
   "cell_type": "code",
   "execution_count": 92,
   "id": "c7895625",
   "metadata": {},
   "outputs": [
    {
     "name": "stdout",
     "output_type": "stream",
     "text": [
      "The sum of all the numbers in the list is 126\n"
     ]
    }
   ],
   "source": [
    "# Program to find the sum of all numbers stored in a list\n",
    "#numbers = [1,5,10,15,45,50]\n",
    "\n",
    "#sum = 0\n",
    "\n",
    "#for val in numbers:\n",
    "    sum = sum + val        #sum = 0+1 = 1, sum = 1+5 = 6\n",
    "    \n",
    "#Output:\n",
    "#print(\"The sum of all the numbers in the list is\",sum)"
   ]
  },
  {
   "cell_type": "code",
   "execution_count": 96,
   "id": "00d07392",
   "metadata": {},
   "outputs": [
    {
     "name": "stdout",
     "output_type": "stream",
     "text": [
      "The total is 15\n"
     ]
    }
   ],
   "source": [
    "digits = [1,2,3,4,5,]\n",
    "\n",
    "dig = 0\n",
    "\n",
    "for val in digits:\n",
    "    dig = dig + val\n",
    "print(\"The total is\",dig)"
   ]
  },
  {
   "cell_type": "markdown",
   "id": "ec01fbef",
   "metadata": {},
   "source": [
    "# Using else statement with Loops"
   ]
  },
  {
   "cell_type": "code",
   "execution_count": null,
   "id": "b6f2b638",
   "metadata": {},
   "outputs": [],
   "source": [
    "If the else statement is used with a for loop, the else statement is executed when the loop\n",
    "has exhausted iterating the list"
   ]
  },
  {
   "cell_type": "code",
   "execution_count": 1,
   "id": "103b8852",
   "metadata": {},
   "outputs": [
    {
     "name": "stdout",
     "output_type": "stream",
     "text": [
      "1\n",
      "5\n",
      "10\n",
      "15\n",
      "45\n",
      "50\n",
      "No items left\n"
     ]
    }
   ],
   "source": [
    "# Program to print the numbers available inside the list using else statement\n",
    "numbers = [1,5,10,15,45,50]\n",
    "\n",
    "for n in numbers:\n",
    "    print(n)\n",
    "else:\n",
    "    print(\"No items left\")\n",
    "    \n",
    "    "
   ]
  },
  {
   "cell_type": "markdown",
   "id": "1ae7cb37",
   "metadata": {},
   "source": [
    "# Looping through a String"
   ]
  },
  {
   "cell_type": "code",
   "execution_count": 99,
   "id": "271a1e70",
   "metadata": {},
   "outputs": [
    {
     "name": "stdout",
     "output_type": "stream",
     "text": [
      "p\n",
      "y\n",
      "t\n",
      "h\n",
      "o\n",
      "n\n"
     ]
    }
   ],
   "source": [
    "# Program to print each character of a string\n",
    "\n",
    "for i in \"python\":\n",
    "    print(i)\n",
    "    "
   ]
  },
  {
   "cell_type": "markdown",
   "id": "1727d77b",
   "metadata": {},
   "source": [
    "# The range()function"
   ]
  },
  {
   "cell_type": "code",
   "execution_count": null,
   "id": "1acfb216",
   "metadata": {},
   "outputs": [],
   "source": [
    "# This a very important topic:\n",
    "- We can generate a sequence of numbers using range()function\n",
    "- We can also define the start,stop and step size as range (start,stop,step size). step size defaults to 1 if not provided\n",
    "- This function does not store all the values in memory, it would be inefficient,\n",
    "so it remembers the start,stop,step size and generates the next number on the go."
   ]
  },
  {
   "cell_type": "code",
   "execution_count": 2,
   "id": "0f7607ed",
   "metadata": {},
   "outputs": [
    {
     "name": "stdout",
     "output_type": "stream",
     "text": [
      "range(0, 10)\n"
     ]
    }
   ],
   "source": [
    "#Program to generate 10 numbers starting from 0-9 using range function\n",
    "print(range(10))\n"
   ]
  },
  {
   "cell_type": "code",
   "execution_count": 4,
   "id": "0bc42c38",
   "metadata": {},
   "outputs": [
    {
     "name": "stdout",
     "output_type": "stream",
     "text": [
      "0\n",
      "1\n",
      "2\n",
      "3\n",
      "4\n"
     ]
    }
   ],
   "source": [
    "# Program to display the numbers using range function\n",
    "for x in range(5):\n",
    "    print(x)\n",
    "    "
   ]
  },
  {
   "cell_type": "code",
   "execution_count": 6,
   "id": "b4f269d8",
   "metadata": {},
   "outputs": [
    {
     "name": "stdout",
     "output_type": "stream",
     "text": [
      "2\n",
      "3\n",
      "4\n",
      "5\n"
     ]
    }
   ],
   "source": [
    "# Program to display the numbers between two values using range function\n",
    "for x in range(2,6):\n",
    "    print(x)\n",
    "    "
   ]
  },
  {
   "cell_type": "code",
   "execution_count": 7,
   "id": "bb273af5",
   "metadata": {},
   "outputs": [
    {
     "name": "stdout",
     "output_type": "stream",
     "text": [
      "2\n",
      "4\n",
      "6\n",
      "8\n"
     ]
    }
   ],
   "source": [
    "# Program to display the numbers between two values using step size\n",
    "for x in range(2,10,2):\n",
    "    print(x)\n",
    "    "
   ]
  },
  {
   "cell_type": "markdown",
   "id": "8828ec5c",
   "metadata": {},
   "source": [
    "# Iterating by sequence index"
   ]
  },
  {
   "cell_type": "code",
   "execution_count": 8,
   "id": "1cccc12a",
   "metadata": {},
   "outputs": [
    {
     "name": "stdout",
     "output_type": "stream",
     "text": [
      "Fruit name is : Apple\n",
      "Fruit name is : Banana\n",
      "Fruit name is : Cherry\n",
      "Fruit name is : Mango\n",
      "Fruit name is : Pineapple\n",
      "Fruit name is : Jackfruit\n"
     ]
    }
   ],
   "source": [
    "# An alternative way of iterating through each items is by index offset into the sequence itself\n",
    "# Program to iterate through a list using indexing\n",
    "\n",
    "fruits = [\"Apple\",\"Banana\",\"Cherry\",\"Mango\",\"Pineapple\",\"Jackfruit\"]\n",
    "\n",
    "for index in range(len(fruits)):\n",
    "    print('Fruit name is :',fruits[index])\n",
    "    "
   ]
  },
  {
   "cell_type": "code",
   "execution_count": 9,
   "id": "09eb44b8",
   "metadata": {},
   "outputs": [
    {
     "name": "stdout",
     "output_type": "stream",
     "text": [
      "0 Apple\n",
      "1 Banana\n",
      "2 Cherry\n",
      "3 Mango\n",
      "4 Pineapple\n",
      "5 Jackfruit\n"
     ]
    }
   ],
   "source": [
    "# A list of fruits\n",
    "fruits = [\"Apple\",\"Banana\",\"Cherry\",\"Mango\",\"Pineapple\",\"Jackfruit\"]\n",
    "\n",
    "## read fruits list and enumarate into index and value\n",
    "# Enumarate() method adds a counter to an iterable and returns it in a form of enumerate object.\n",
    "\n",
    "for index,value in enumerate(fruits):\n",
    "    print(index,value)\n",
    "    \n",
    "# print ('fruit index is',index,'and fruit name is :',value) \n"
   ]
  },
  {
   "cell_type": "markdown",
   "id": "6dc5e36f",
   "metadata": {},
   "source": [
    "# Nested For Loop"
   ]
  },
  {
   "cell_type": "code",
   "execution_count": null,
   "id": "5eff95f0",
   "metadata": {},
   "outputs": [],
   "source": [
    "Python programming allows to use one for loop inside another for loop"
   ]
  },
  {
   "cell_type": "code",
   "execution_count": 13,
   "id": "e6cdb7bc",
   "metadata": {},
   "outputs": [
    {
     "name": "stdout",
     "output_type": "stream",
     "text": [
      "1 1\n",
      "1 2\n",
      "1 3\n",
      "2 1\n",
      "2 2\n",
      "2 3\n",
      "3 1\n",
      "3 2\n",
      "3 3\n"
     ]
    }
   ],
   "source": [
    "# Nested for loop example\n",
    "\n",
    "for i in range(1,4):\n",
    "    for b in range(1,4):\n",
    "        print(i,b)        "
   ]
  },
  {
   "cell_type": "code",
   "execution_count": 15,
   "id": "8bb2e663",
   "metadata": {},
   "outputs": [
    {
     "name": "stdout",
     "output_type": "stream",
     "text": [
      "Red Apple\n",
      "Red Banana\n",
      "Red Cherry\n",
      "Big Apple\n",
      "Big Banana\n",
      "Big Cherry\n",
      "Tasty Apple\n",
      "Tasty Banana\n",
      "Tasty Cherry\n"
     ]
    }
   ],
   "source": [
    "# Nested for loop example\n",
    "\n",
    "adj = [\"Red\",\"Big\",\"Tasty\"]\n",
    "fruits = [\"Apple\",\"Banana\",\"Cherry\",]\n",
    "\n",
    "for d in adj:\n",
    "    for s in fruits:\n",
    "        print(d,s)\n",
    "        "
   ]
  },
  {
   "cell_type": "markdown",
   "id": "b2769d9d",
   "metadata": {},
   "source": [
    "# Python Break and Continue Statement"
   ]
  },
  {
   "cell_type": "code",
   "execution_count": null,
   "id": "087f5bd2",
   "metadata": {},
   "outputs": [],
   "source": [
    "Agenda:\n",
    "-What is python break statement\n",
    "-Break statement using while loop\n",
    "-Break statement using for loop\n",
    "-Break statement using nested for loop\n",
    "-What is python continue statement\n",
    "-ontinue statement using while loop"
   ]
  },
  {
   "cell_type": "markdown",
   "id": "938c6d8c",
   "metadata": {},
   "source": [
    "# Python Break statement"
   ]
  },
  {
   "cell_type": "code",
   "execution_count": null,
   "id": "991d8ff8",
   "metadata": {},
   "outputs": [],
   "source": [
    "- Break statement allows to breakout out of the loop.\n",
    "- Break statement can be used in both while and for loops."
   ]
  },
  {
   "cell_type": "markdown",
   "id": "5e16c50f",
   "metadata": {},
   "source": [
    "# Example"
   ]
  },
  {
   "cell_type": "code",
   "execution_count": 17,
   "id": "ff94000d",
   "metadata": {},
   "outputs": [
    {
     "name": "stdout",
     "output_type": "stream",
     "text": [
      "Apple\n",
      "Banana\n",
      "Cherry\n",
      "Mango\n"
     ]
    }
   ],
   "source": [
    "# Program to print the fruits available inside the list\n",
    "fruits = [\"Apple\",\"Banana\",\"Cherry\",\"Mango\",\"Pineapple\",\"Jackfruit\"]\n",
    "\n",
    "for i in fruits:\n",
    "    print(i)\n",
    "    if i == \"Mango\":\n",
    "        break\n",
    "        \n",
    "        "
   ]
  },
  {
   "cell_type": "code",
   "execution_count": 20,
   "id": "b97743ba",
   "metadata": {},
   "outputs": [
    {
     "name": "stdout",
     "output_type": "stream",
     "text": [
      "1\n",
      "5\n",
      "10\n",
      "15\n",
      "45\n"
     ]
    }
   ],
   "source": [
    "# Program to print the numbers available inside the list\n",
    "numbers = [1,5,10,15,45,50]\n",
    "\n",
    "for n in numbers:\n",
    "    print(n)\n",
    "    if n == 45:\n",
    "        break\n",
    "        \n",
    "        "
   ]
  },
  {
   "cell_type": "code",
   "execution_count": 27,
   "id": "47bb842e",
   "metadata": {},
   "outputs": [
    {
     "name": "stdout",
     "output_type": "stream",
     "text": [
      "0\n",
      "1\n",
      "2\n",
      "3\n",
      "4\n",
      "5\n",
      "6\n"
     ]
    }
   ],
   "source": [
    "# program to print numbers in ascending order till the mentioned limit\n",
    "\n",
    "i = 0\n",
    "while i<=10:\n",
    "    print(i)\n",
    "    i +=1\n",
    "    if i == 7:\n",
    "        break"
   ]
  },
  {
   "cell_type": "code",
   "execution_count": null,
   "id": "a29ef0f6",
   "metadata": {},
   "outputs": [],
   "source": [
    "Note: If you are using nested loops, the break statement stops the execution of the innermost loop and\n",
    "    start executing the next line of code after the block."
   ]
  },
  {
   "cell_type": "code",
   "execution_count": 31,
   "id": "9ad66fd4",
   "metadata": {},
   "outputs": [
    {
     "name": "stdout",
     "output_type": "stream",
     "text": [
      "1 1\n",
      "1 2\n",
      "1 3\n",
      "2 1\n",
      "2 2\n",
      "2 3\n"
     ]
    }
   ],
   "source": [
    "# Nested for loop example without break statement \n",
    "\n",
    "for i in range(1,3):\n",
    "    for b in range(1,4):\n",
    "        print(i,b)\n",
    "        \n"
   ]
  },
  {
   "cell_type": "code",
   "execution_count": 33,
   "id": "6afbb9ed",
   "metadata": {},
   "outputs": [
    {
     "name": "stdout",
     "output_type": "stream",
     "text": [
      "1 1\n",
      "1 2\n",
      "2 1\n",
      "2 2\n"
     ]
    }
   ],
   "source": [
    "# Nested for loop with break statement \n",
    "\n",
    "for i in range(1,3):\n",
    "    ### Inner for loop ###\n",
    "    for b in range(1,3):\n",
    "        print(i,b)\n",
    "        if i == 2 and b == 2:\n",
    "            break\n",
    "            "
   ]
  },
  {
   "cell_type": "markdown",
   "id": "4e86b2f9",
   "metadata": {},
   "source": [
    "# Continue Statement"
   ]
  },
  {
   "cell_type": "code",
   "execution_count": null,
   "id": "01000079",
   "metadata": {},
   "outputs": [],
   "source": [
    "- The continue statement rejects all the remaining statements in the current iteration of the loop-\n",
    "and moves the control back to the top of the loop.\n",
    "- The continue statement can be used both in while and for loops."
   ]
  },
  {
   "cell_type": "markdown",
   "id": "b02f3453",
   "metadata": {},
   "source": [
    "# Example"
   ]
  },
  {
   "cell_type": "code",
   "execution_count": 37,
   "id": "c3c063e3",
   "metadata": {},
   "outputs": [
    {
     "name": "stdout",
     "output_type": "stream",
     "text": [
      "1\n",
      "2\n",
      "3\n",
      "4\n",
      "6\n",
      "7\n",
      "8\n",
      "9\n",
      "10\n",
      "11\n"
     ]
    }
   ],
   "source": [
    "# program to print numbers in ascending order till the mentioned limit\n",
    "\n",
    "i = 0\n",
    "while i<=10:\n",
    "    i +=1\n",
    "    if i == 5:\n",
    "        continue\n",
    "    print(i)\n",
    "    \n",
    "        "
   ]
  },
  {
   "cell_type": "code",
   "execution_count": 38,
   "id": "bb751a46",
   "metadata": {},
   "outputs": [
    {
     "name": "stdout",
     "output_type": "stream",
     "text": [
      "2\n",
      "4\n",
      "6\n",
      "20\n",
      "36\n"
     ]
    }
   ],
   "source": [
    "# Pring even numbers present in a list\n",
    "numbers = [1,2,4,5,6,9,20,23,36]\n",
    "\n",
    "for num in numbers:\n",
    "    if num % 2 != 0:\n",
    "        continue\n",
    "    print(num)\n",
    "    "
   ]
  },
  {
   "cell_type": "markdown",
   "id": "8ce81474",
   "metadata": {},
   "source": [
    "# Section 4: Python Data Types String and List"
   ]
  },
  {
   "cell_type": "code",
   "execution_count": null,
   "id": "addf5452",
   "metadata": {},
   "outputs": [],
   "source": [
    "Agenda:\n",
    "- What is a String\n",
    "- How to define a string\n",
    "- how to access string with sample programs\n",
    "- What is negative slicing\n",
    "- What is index out of range\n",
    "- Types of index error"
   ]
  },
  {
   "cell_type": "markdown",
   "id": "b1d53575",
   "metadata": {},
   "source": [
    "# What is a Data type?"
   ]
  },
  {
   "cell_type": "code",
   "execution_count": null,
   "id": "1d60fe98",
   "metadata": {},
   "outputs": [],
   "source": [
    "It is an attribute that tells what kind of data that value or variable can have it.\n",
    "Example:\n",
    "rollnumber = 1234 # is integer\n",
    "name = # \"Anand\" # string\n",
    "narks = 80.5 # float"
   ]
  },
  {
   "cell_type": "markdown",
   "id": "5997b386",
   "metadata": {},
   "source": [
    "# Standard Data Types"
   ]
  },
  {
   "cell_type": "code",
   "execution_count": null,
   "id": "3e559540",
   "metadata": {},
   "outputs": [],
   "source": [
    "Python has five standard data types-\n",
    "1. Numbers\n",
    "2. Strings\n",
    "3. List\n",
    "4. Tuple\n",
    "5. Dictionary"
   ]
  },
  {
   "cell_type": "markdown",
   "id": "7afcfc40",
   "metadata": {},
   "source": [
    "# Strings"
   ]
  },
  {
   "cell_type": "code",
   "execution_count": null,
   "id": "439da5f3",
   "metadata": {},
   "outputs": [],
   "source": [
    "- A string is a sequence of characters.\n",
    "- It is represented by either single quotation marks,or double quotation marks\n",
    "- Even triple quotes can be used in python but generally used to represent multiline strings and docstrings.\n",
    "\n",
    "Note: Python does not have any seperate data type for characters meaning 'Single letters',\n",
    "so they are represented as a single character string."
   ]
  },
  {
   "cell_type": "code",
   "execution_count": 41,
   "id": "a901ee86",
   "metadata": {},
   "outputs": [
    {
     "name": "stdout",
     "output_type": "stream",
     "text": [
      "Python String\n",
      "Programming Language\n",
      "Vinoth is the best python\n",
      "                  intructor ever and teaching well\n"
     ]
    }
   ],
   "source": [
    "# How to create a String\n",
    "\n",
    "singlequote = 'Python String'\n",
    "print(singlequote)\n",
    "\n",
    "doublequote = \"Programming Language\"\n",
    "print(doublequote)\n",
    "\n",
    "# Triple quotes string can extend multiple lines\n",
    "triplequotes = \"\"\"Vinoth is the best python\n",
    "                  intructor ever and teaching well\"\"\"\n",
    "print(triplequotes)\n",
    "\n"
   ]
  },
  {
   "cell_type": "markdown",
   "id": "3e931d21",
   "metadata": {},
   "source": [
    "# Accessing values in Strings (Slicing)"
   ]
  },
  {
   "cell_type": "code",
   "execution_count": null,
   "id": "9b38ae81",
   "metadata": {},
   "outputs": [],
   "source": [
    "- We can access individual characters using indexing and a range of characters using slicing.\n",
    "- Index starts from 0\n",
    "- Leftto right direction"
   ]
  },
  {
   "cell_type": "code",
   "execution_count": 7,
   "id": "c07b2c2b",
   "metadata": {},
   "outputs": [
    {
     "name": "stdout",
     "output_type": "stream",
     "text": [
      "P\n",
      "machine\n",
      "Python for machine learning\n",
      "machine learning\n",
      "Python for \n"
     ]
    }
   ],
   "source": [
    "myString = \"Python for machine learning\"\n",
    "\n",
    "#print first character\n",
    "print(myString[0])\n",
    "\n",
    "#slicing 11th to 18th characters\n",
    "print(myString[11:18])\n",
    "\n",
    "#Using the default values - Use it as per the requirement\n",
    "\n",
    "print(myString[:])\n",
    "print(myString[11:])\n",
    "print(myString[:11])\n",
    "\n"
   ]
  },
  {
   "cell_type": "markdown",
   "id": "f6347ebb",
   "metadata": {},
   "source": [
    "# Negative Indexing"
   ]
  },
  {
   "cell_type": "code",
   "execution_count": null,
   "id": "8bf219a5",
   "metadata": {},
   "outputs": [],
   "source": [
    "- Python allows negative indexing for its sequences.\n",
    "- Index starts from -1\n",
    "- Right to left direction\n",
    "- The index of -1 refers to the last item, -2 to the second last item and so on"
   ]
  },
  {
   "cell_type": "code",
   "execution_count": 8,
   "id": "af28f254",
   "metadata": {},
   "outputs": [
    {
     "name": "stdout",
     "output_type": "stream",
     "text": [
      "n\n",
      "automat\n",
      "Python for automation\n",
      "automation\n",
      "Python for \n"
     ]
    }
   ],
   "source": [
    "myString2 = \"Python for automation\"\n",
    "\n",
    "#print first character\n",
    "print(myString2[-1])\n",
    "\n",
    "#slicing 11th to 18th characters\n",
    "print(myString2[11:18])\n",
    "\n",
    "#Using the default values - Use it as per the requirement\n",
    "\n",
    "print(myString2[:])\n",
    "print(myString2[11:])\n",
    "print(myString2[:11])"
   ]
  },
  {
   "cell_type": "markdown",
   "id": "10327c87",
   "metadata": {},
   "source": [
    "# Index out of the range"
   ]
  },
  {
   "cell_type": "code",
   "execution_count": null,
   "id": "91e1f2df",
   "metadata": {},
   "outputs": [],
   "source": [
    "If we tru to access index out of the range or use decimal number, we will get \"IndexError\".\n",
    "The index must be an integer, we cant use float or other types. this will result into TypeError.\n",
    "Python allows negative indexing for its sequences."
   ]
  },
  {
   "cell_type": "code",
   "execution_count": 3,
   "id": "beac1ab2",
   "metadata": {},
   "outputs": [
    {
     "ename": "IndexError",
     "evalue": "string index out of range",
     "output_type": "error",
     "traceback": [
      "\u001b[1;31m---------------------------------------------------------------------------\u001b[0m",
      "\u001b[1;31mIndexError\u001b[0m                                Traceback (most recent call last)",
      "\u001b[1;32m~\\AppData\\Local\\Temp\\ipykernel_14280\\284703002.py\u001b[0m in \u001b[0;36m<module>\u001b[1;34m\u001b[0m\n\u001b[0;32m      1\u001b[0m \u001b[1;31m# Sample code for IndexError\u001b[0m\u001b[1;33m\u001b[0m\u001b[1;33m\u001b[0m\u001b[0m\n\u001b[0;32m      2\u001b[0m \u001b[0mmyString3\u001b[0m \u001b[1;33m=\u001b[0m \u001b[1;34m\"Python\"\u001b[0m\u001b[1;33m\u001b[0m\u001b[1;33m\u001b[0m\u001b[0m\n\u001b[1;32m----> 3\u001b[1;33m \u001b[0mprint\u001b[0m\u001b[1;33m(\u001b[0m\u001b[0mmyString3\u001b[0m\u001b[1;33m[\u001b[0m\u001b[1;36m6\u001b[0m\u001b[1;33m]\u001b[0m\u001b[1;33m)\u001b[0m\u001b[1;33m\u001b[0m\u001b[1;33m\u001b[0m\u001b[0m\n\u001b[0m\u001b[0;32m      4\u001b[0m \u001b[1;33m\u001b[0m\u001b[0m\n\u001b[0;32m      5\u001b[0m \u001b[1;31m#Note: it gives the IndexError message!\u001b[0m\u001b[1;33m\u001b[0m\u001b[1;33m\u001b[0m\u001b[0m\n",
      "\u001b[1;31mIndexError\u001b[0m: string index out of range"
     ]
    }
   ],
   "source": [
    "# Sample code for IndexError\n",
    "myString3 = \"Python\"\n",
    "print(myString3[6])\n",
    "\n",
    "#Note: it gives the IndexError message!"
   ]
  },
  {
   "cell_type": "code",
   "execution_count": 4,
   "id": "fdc5a94a",
   "metadata": {},
   "outputs": [
    {
     "ename": "TypeError",
     "evalue": "string indices must be integers",
     "output_type": "error",
     "traceback": [
      "\u001b[1;31m---------------------------------------------------------------------------\u001b[0m",
      "\u001b[1;31mTypeError\u001b[0m                                 Traceback (most recent call last)",
      "\u001b[1;32m~\\AppData\\Local\\Temp\\ipykernel_14280\\3682592995.py\u001b[0m in \u001b[0;36m<module>\u001b[1;34m\u001b[0m\n\u001b[0;32m      1\u001b[0m \u001b[1;31m# Sample code for TypeError\u001b[0m\u001b[1;33m\u001b[0m\u001b[1;33m\u001b[0m\u001b[0m\n\u001b[1;32m----> 2\u001b[1;33m \u001b[0mprint\u001b[0m\u001b[1;33m(\u001b[0m\u001b[0mmyString3\u001b[0m\u001b[1;33m[\u001b[0m\u001b[1;36m1.5\u001b[0m\u001b[1;33m]\u001b[0m\u001b[1;33m)\u001b[0m\u001b[1;33m\u001b[0m\u001b[1;33m\u001b[0m\u001b[0m\n\u001b[0m",
      "\u001b[1;31mTypeError\u001b[0m: string indices must be integers"
     ]
    }
   ],
   "source": [
    "# Sample code for TypeError\n",
    "print(myString3[1.5])\n"
   ]
  },
  {
   "cell_type": "markdown",
   "id": "a81c9733",
   "metadata": {},
   "source": [
    "# Python String Part 2"
   ]
  },
  {
   "cell_type": "code",
   "execution_count": null,
   "id": "0a98044b",
   "metadata": {},
   "outputs": [],
   "source": [
    "- How to update a String\n",
    "- How to delete a String\n",
    "- Important String Operations\n",
    "- String Comparison\n",
    "- String Membership Operator\n",
    "- Iterating String using for loop"
   ]
  },
  {
   "cell_type": "markdown",
   "id": "a28e1603",
   "metadata": {},
   "source": [
    "# How to change or update a string?"
   ]
  },
  {
   "cell_type": "code",
   "execution_count": null,
   "id": "ea265c86",
   "metadata": {},
   "outputs": [],
   "source": [
    "Strings are immutable. This means that elements of a string cannot be changed once it has been assigned.\n",
    "We can simply reassign different strings to the same name."
   ]
  },
  {
   "cell_type": "code",
   "execution_count": null,
   "id": "16935e12",
   "metadata": {},
   "outputs": [],
   "source": [
    "# Creating a string and checking the memory address\n",
    "str1 = \"Python\"\n",
    "print(str1)\n",
    "print(\"Memory location before update\",id(str1))\n",
    "\n",
    "# Trying to modify a string\n",
    "str1 += \"Tutorials\"\n",
    "print(str1)\n",
    "print(\"Memorylocation after update\",id(str1))\n",
    "\n"
   ]
  },
  {
   "cell_type": "markdown",
   "id": "49efc373",
   "metadata": {},
   "source": [
    "# How to delete a String?"
   ]
  },
  {
   "cell_type": "code",
   "execution_count": null,
   "id": "3dc27041",
   "metadata": {},
   "outputs": [],
   "source": [
    "- We cannot delete or remove characters from a string.\n",
    "- We can delete a string entirely using the keyword \"del\""
   ]
  },
  {
   "cell_type": "code",
   "execution_count": null,
   "id": "34b0a56e",
   "metadata": {},
   "outputs": [],
   "source": [
    "# Code to delete complete string\n",
    "del myStr7"
   ]
  },
  {
   "cell_type": "markdown",
   "id": "53b7b3d0",
   "metadata": {},
   "source": [
    "# String Operations"
   ]
  },
  {
   "cell_type": "markdown",
   "id": "2d5e6db0",
   "metadata": {},
   "source": [
    "# Concatenation of two or more strings"
   ]
  },
  {
   "cell_type": "code",
   "execution_count": null,
   "id": "347d0c8b",
   "metadata": {},
   "outputs": [],
   "source": [
    "- Joining one of two or more strings into a single one is called concatenation.\n",
    "- The + operator does this in python. Simply writing tow strings literals together also concatenates them.\n",
    "- The * operator can be used to repeat the string for a given number of times."
   ]
  },
  {
   "cell_type": "code",
   "execution_count": 13,
   "id": "27264cde",
   "metadata": {},
   "outputs": [
    {
     "name": "stdout",
     "output_type": "stream",
     "text": [
      "Hello Brother \n",
      "Hello Hello Hello \n"
     ]
    }
   ],
   "source": [
    "a1 = \"Hello \"\n",
    "a2 = \"Brother \"\n",
    "\n",
    "#concatenation of 2 strings\n",
    "print(a1 + a2)\n",
    "\n",
    "#Repeat strings many times\n",
    "print(a1 * 3)\n"
   ]
  },
  {
   "cell_type": "markdown",
   "id": "c661a909",
   "metadata": {},
   "source": [
    "# Ord() and chr() Functions"
   ]
  },
  {
   "cell_type": "code",
   "execution_count": 14,
   "id": "cdcd05ba",
   "metadata": {},
   "outputs": [
    {
     "name": "stdout",
     "output_type": "stream",
     "text": [
      "98\n"
     ]
    }
   ],
   "source": [
    "# ord() - function returns the ASCII code of the character\n",
    "ch = 'b'\n",
    "print(ord(ch))\n"
   ]
  },
  {
   "cell_type": "code",
   "execution_count": 16,
   "id": "47d4d6e0",
   "metadata": {},
   "outputs": [
    {
     "name": "stdout",
     "output_type": "stream",
     "text": [
      "a\n",
      "A\n",
      "b\n"
     ]
    }
   ],
   "source": [
    "# chr() - function returns character represented by a ASCII number\n",
    "print(chr(97))\n",
    "print(chr(65))\n",
    "print(chr(98))\n"
   ]
  },
  {
   "cell_type": "markdown",
   "id": "9e2858be",
   "metadata": {},
   "source": [
    "# String Comparison"
   ]
  },
  {
   "cell_type": "code",
   "execution_count": null,
   "id": "e39cf314",
   "metadata": {},
   "outputs": [],
   "source": [
    "- You can use ( >, <, <=, >=, ==, !=) to compare strings.\n",
    "- Python compares string lexicographically i.e. using ASCII value of the characters."
   ]
  },
  {
   "cell_type": "code",
   "execution_count": 22,
   "id": "7f4dcb54",
   "metadata": {},
   "outputs": [
    {
     "name": "stdout",
     "output_type": "stream",
     "text": [
      "True\n",
      "False\n",
      "True\n",
      "True\n",
      "False\n"
     ]
    }
   ],
   "source": [
    "# Sample code for string comparison\n",
    "\n",
    "print(\"Python\" == \"Python\")\n",
    "print(\"PYTHON\" == \"Python\")\n",
    "print(\"Python\" >= \"Python\")\n",
    "print(\"Python\" >= \"PYTHON\")\n",
    "print(\"PYTHON\" >= \"Python\")"
   ]
  },
  {
   "cell_type": "markdown",
   "id": "223770af",
   "metadata": {},
   "source": [
    "# String Membership Operator"
   ]
  },
  {
   "cell_type": "code",
   "execution_count": 24,
   "id": "21065940",
   "metadata": {},
   "outputs": [
    {
     "name": "stdout",
     "output_type": "stream",
     "text": [
      "True\n",
      "True\n"
     ]
    }
   ],
   "source": [
    "# Sample code for 'in' operator\n",
    "asd = \" All the best\"\n",
    "print('best' in asd)\n",
    "\n",
    "#Sample code for 'not in' operator\n",
    "asd = \"All the best\"\n",
    "print('go'not in asd)\n",
    "\n"
   ]
  },
  {
   "cell_type": "markdown",
   "id": "4efd45a2",
   "metadata": {},
   "source": [
    "# Iterating String using for loop"
   ]
  },
  {
   "cell_type": "code",
   "execution_count": 26,
   "id": "b52754aa",
   "metadata": {},
   "outputs": [
    {
     "name": "stdout",
     "output_type": "stream",
     "text": [
      "P\n",
      "y\n",
      "t\n",
      "h\n",
      "o\n",
      "n\n"
     ]
    }
   ],
   "source": [
    "# Program to print each character of a string\n",
    "for d in \"Python\":\n",
    "    print(d)"
   ]
  },
  {
   "cell_type": "markdown",
   "id": "7c93ada3",
   "metadata": {},
   "source": [
    "# Python String Functions or Methods"
   ]
  },
  {
   "cell_type": "code",
   "execution_count": null,
   "id": "d6ec54a2",
   "metadata": {},
   "outputs": [],
   "source": [
    "Agenda:\n",
    "- 17 python methods"
   ]
  },
  {
   "cell_type": "markdown",
   "id": "cbd47f24",
   "metadata": {},
   "source": [
    "# String Functions or Methods"
   ]
  },
  {
   "cell_type": "code",
   "execution_count": 30,
   "id": "492a69ac",
   "metadata": {},
   "outputs": [
    {
     "name": "stdout",
     "output_type": "stream",
     "text": [
      "     Welcome to python session\n",
      "Welcome to python session\n"
     ]
    }
   ],
   "source": [
    "#1. Strip() method removes any whitespace from the beginning or the end\n",
    "St = \"     Welcome to python session\"\n",
    "print(St) #print with space\n",
    "print(St.strip())"
   ]
  },
  {
   "cell_type": "code",
   "execution_count": 31,
   "id": "5be80d48",
   "metadata": {},
   "outputs": [
    {
     "name": "stdout",
     "output_type": "stream",
     "text": [
      "Length of the string is 30\n"
     ]
    }
   ],
   "source": [
    "#2. Len() method returns the length of a string\n",
    "St2 = \"Python string length\"\n",
    "print(\"Length of the string is\",(len(St)))"
   ]
  },
  {
   "cell_type": "code",
   "execution_count": 34,
   "id": "bfb5dde3",
   "metadata": {},
   "outputs": [
    {
     "name": "stdout",
     "output_type": "stream",
     "text": [
      "welcome\n"
     ]
    }
   ],
   "source": [
    "#3. Lower() method returns the string in lower case\n",
    "St3 = \"WELCOME\"\n",
    "print(St3.lower())"
   ]
  },
  {
   "cell_type": "code",
   "execution_count": 38,
   "id": "35f2e7d0",
   "metadata": {},
   "outputs": [
    {
     "name": "stdout",
     "output_type": "stream",
     "text": [
      "True\n"
     ]
    }
   ],
   "source": [
    "#4. isLower() method checks whether string is in lower case of not\n",
    "St4 = \"welcome\"\n",
    "print(St4.islower())"
   ]
  },
  {
   "cell_type": "code",
   "execution_count": 39,
   "id": "6282679f",
   "metadata": {},
   "outputs": [
    {
     "name": "stdout",
     "output_type": "stream",
     "text": [
      "WELCOME\n"
     ]
    }
   ],
   "source": [
    "#5. Upper() method returns the string in upper case\n",
    "St5 = \"welcome\"\n",
    "print(St5.upper())"
   ]
  },
  {
   "cell_type": "code",
   "execution_count": 41,
   "id": "2cfcec76",
   "metadata": {},
   "outputs": [
    {
     "name": "stdout",
     "output_type": "stream",
     "text": [
      "True\n"
     ]
    }
   ],
   "source": [
    "#6. isUpper() method Checks whether string is in upper case of not\n",
    "St6 = \"WELCOME\"\n",
    "print(St6.isupper())"
   ]
  },
  {
   "cell_type": "code",
   "execution_count": 42,
   "id": "3389f043",
   "metadata": {},
   "outputs": [
    {
     "name": "stdout",
     "output_type": "stream",
     "text": [
      "True\n",
      "False\n",
      "False\n",
      "False\n"
     ]
    }
   ],
   "source": [
    "#7. isalpha() method check Checks if all Characters are Alphabets\n",
    "St9 = \"Python\"\n",
    "St10 = \"Python123\"\n",
    "St11 = \"123\"\n",
    "St12 = \"Python123@#@#\"\n",
    "print(St9.isalpha())\n",
    "print(St10.isalpha())\n",
    "print(St11.isalpha())\n",
    "print(St12.isalpha())"
   ]
  },
  {
   "cell_type": "code",
   "execution_count": 43,
   "id": "1f371483",
   "metadata": {},
   "outputs": [
    {
     "name": "stdout",
     "output_type": "stream",
     "text": [
      "False\n",
      "False\n",
      "True\n",
      "False\n"
     ]
    }
   ],
   "source": [
    "#8. isdigit() method check whether string is Checks Digit Characters \n",
    "St9 = \"Python\"\n",
    "St10 = \"Python123\"\n",
    "St11 = \"123\"\n",
    "St12 = \"Python123@#@#\"\n",
    "print(St9.isdigit())\n",
    "print(St10.isdigit())\n",
    "print(St11.isdigit())\n",
    "print(St12.isdigit())"
   ]
  },
  {
   "cell_type": "code",
   "execution_count": 44,
   "id": "9ca31cc6",
   "metadata": {},
   "outputs": [
    {
     "name": "stdout",
     "output_type": "stream",
     "text": [
      "True\n",
      "True\n",
      "True\n",
      "False\n"
     ]
    }
   ],
   "source": [
    "#9. isalnum() method check whether string is Checks Alphanumeric Character.(combination of alphabets and numbers)\n",
    "St9 = \"Python\"\n",
    "St10 = \"Python123\"\n",
    "St11 = \"123\"\n",
    "St12 = \"Python123@#@#\"\n",
    "print(St9.isalnum())\n",
    "print(St10.isalnum())\n",
    "print(St11.isalnum())\n",
    "print(St12.isalnum())"
   ]
  },
  {
   "cell_type": "code",
   "execution_count": 50,
   "id": "31a7f1a0",
   "metadata": {},
   "outputs": [
    {
     "name": "stdout",
     "output_type": "stream",
     "text": [
      "The count is: 3\n"
     ]
    }
   ],
   "source": [
    "#10. count() method returns the number of occurences of a substring in the given string. \n",
    "#string = \"Python is easy to learn to earn a high salary.\"\n",
    "string = \"Python is easy to learn.This is also called as easy programming language\"\n",
    "substring = \"is\"\n",
    "\n",
    "print(\"The count is:\",string.count(substring))"
   ]
  },
  {
   "cell_type": "code",
   "execution_count": 55,
   "id": "765afdfe",
   "metadata": {},
   "outputs": [
    {
     "name": "stdout",
     "output_type": "stream",
     "text": [
      "string1.join(string2): 1-2-3-4-5-6\n"
     ]
    }
   ],
   "source": [
    "#11. join() method returns a string concatenated with the elements of an iterable.\n",
    "string1 = '-'\n",
    "string2 = '123456'\n",
    "\n",
    "print('string1.join(string2):',string1.join(string2))"
   ]
  },
  {
   "cell_type": "code",
   "execution_count": 59,
   "id": "8bafac75",
   "metadata": {},
   "outputs": [
    {
     "name": "stdout",
     "output_type": "stream",
     "text": [
      "['Welcome', 'to', 'pyhon', 'class']\n",
      "['Samuel', 'Heaven', 'Nkanyane']\n",
      "['1212', '2323', '3434', '4545']\n"
     ]
    }
   ],
   "source": [
    "#12. join() method breaks up a string a the specified separator and returns a list of strings.\n",
    "# splits at space\n",
    "st1 = 'Welcome to pyhon class'\n",
    "print(st1.split())\n",
    "\n",
    "st2 = \"Samuel,Heaven,Nkanyane\"\n",
    "print(st2.split(','))\n",
    "\n",
    "st3 = \"1212:2323:3434:4545\"\n",
    "print(st3.split(':'))"
   ]
  },
  {
   "cell_type": "code",
   "execution_count": 66,
   "id": "d4785aee",
   "metadata": {},
   "outputs": [
    {
     "name": "stdout",
     "output_type": "stream",
     "text": [
      "Substring 'like' at index': 7\n",
      "-1\n"
     ]
    }
   ],
   "source": [
    "#13. Find() method returns the index of first occurence of the subtring (if found).\n",
    "# if not found, it returns -1\n",
    "str = \"Do you like programming?\"\n",
    "#print(str.find('like'))\n",
    "print(\"Substring 'like' at index':\",str.find('like'))\n",
    "# if you want to find a word that is not in the string it will print -1\n",
    "print(str.find('Hai'))"
   ]
  },
  {
   "cell_type": "code",
   "execution_count": 72,
   "id": "31756a84",
   "metadata": {},
   "outputs": [
    {
     "name": "stdout",
     "output_type": "stream",
     "text": [
      "Apple\n",
      "Red,Blue,Yellow,Green\n",
      "Original string: Appla\n",
      "Replaced string: Apple\n"
     ]
    }
   ],
   "source": [
    "#14 replce() method returns a copy of the string where all occurences of a substring\n",
    "#is replaced with another substring.\n",
    "\n",
    "# Character replacement\n",
    "\n",
    "fruit = 'Appla'\n",
    "print(fruit.replace('a','e'))\n",
    "\n",
    "# String replacement\n",
    "color = 'Red,Rose,Yellow,Green'\n",
    "print(color.replace('Rose','Blue'))\n",
    "\n",
    "# The original string is unchanged\n",
    "print('Original string:',fruit)\n",
    "print('Replaced string:',fruit.replace('a','e'))"
   ]
  },
  {
   "cell_type": "code",
   "execution_count": 73,
   "id": "4db5d0d6",
   "metadata": {},
   "outputs": [
    {
     "name": "stdout",
     "output_type": "stream",
     "text": [
      "['a', 'e', 'l', 'n', 'p']\n"
     ]
    }
   ],
   "source": [
    "#15. Sorted() method returns a sorted list from the given iterable. it sort characters in an alphabetical order.\n",
    "#String\n",
    "String = 'plane'\n",
    "print(sorted(String))\n"
   ]
  },
  {
   "cell_type": "code",
   "execution_count": 77,
   "id": "39494290",
   "metadata": {},
   "outputs": [
    {
     "name": "stdout",
     "output_type": "stream",
     "text": [
      "True\n",
      "True\n"
     ]
    }
   ],
   "source": [
    "#16. startswith() method returns True if a string starts with the specified prefix.\n",
    "#if not, it returns False\n",
    "\n",
    "text = \"Python is easy to learn\"\n",
    "print(text.startswith(\"Python\"))\n",
    "\n",
    "\n",
    "#17. endswith() method returns True if a string ends with the specificied suffix.\n",
    "#if not,it returns False.\n",
    "\n",
    "print(text.endswith(\"learn\"))"
   ]
  },
  {
   "cell_type": "markdown",
   "id": "493999c9",
   "metadata": {},
   "source": [
    "# Python Lists"
   ]
  },
  {
   "cell_type": "code",
   "execution_count": null,
   "id": "ce941aa3",
   "metadata": {},
   "outputs": [],
   "source": [
    "Agenda:\n",
    "What is a list?\n",
    "How to create a list?\n",
    "List indexing and slicing\n",
    "How to update the lists?\n",
    "How to delete a lists?\n",
    "Traversing list using for loop"
   ]
  },
  {
   "cell_type": "markdown",
   "id": "244d3d94",
   "metadata": {},
   "source": [
    "# What is Lists?"
   ]
  },
  {
   "cell_type": "code",
   "execution_count": null,
   "id": "7b9ab725",
   "metadata": {},
   "outputs": [],
   "source": [
    "- A list is a collection which is ordered and changeable.\n",
    "- Lists are MUTABLE, which means they can be changed.\n",
    "- Lists are enclosed in []\n",
    "- Each item in a list is separated by a comma\n",
    "Eg: list1 = [1,2,3,4,5]\n",
    "- Lists are collection of items (Strings, integers or even other lists)\n",
    "- Each item in the list has an assigned index value."
   ]
  },
  {
   "cell_type": "markdown",
   "id": "c5e066ad",
   "metadata": {},
   "source": [
    "# Creating list in python"
   ]
  },
  {
   "cell_type": "code",
   "execution_count": 84,
   "id": "15438960",
   "metadata": {},
   "outputs": [
    {
     "name": "stdout",
     "output_type": "stream",
     "text": [
      "[]\n",
      "[10, 20, 30, 40, 50]\n",
      "['Python', 'Java', 'C']\n",
      "[10, 20, 30, 'Python']\n"
     ]
    }
   ],
   "source": [
    "# Creating an empty list\n",
    "list1 = []\n",
    "print(list1)\n",
    "\n",
    "# list integers\n",
    "list2 = [10,20,30,40,50]\n",
    "print(list2)\n",
    "\n",
    "#list of strings\n",
    "list3 = [\"Python\",\"Java\",\"C\"]\n",
    "print(list3)\n",
    "\n",
    "# list of different datatypes\n",
    "list4 = [10,20,30,\"Python\"]\n",
    "print(list4)\n",
    "\n",
    "#list of list\n",
    "list5 = [[10,20],[\"Python\",\"DataScience\"]]\n"
   ]
  },
  {
   "cell_type": "markdown",
   "id": "ed720b40",
   "metadata": {},
   "source": [
    "# List Indexing and Slicing"
   ]
  },
  {
   "cell_type": "code",
   "execution_count": null,
   "id": "3b8ad971",
   "metadata": {},
   "outputs": [],
   "source": [
    "- We can access individual elements using indexing and a range of characters using slicing.\n",
    "- Index starts from 0\n",
    "- Left to right direction\n",
    "#Example\n",
    "    List2-10,20,30,40,50\n",
    "    Index-0,1,2,3,4,5\n",
    "    Negative index--5-4-3-2-1\n",
    "- Index starts from -1\n",
    "- Right to left direction\n",
    "- The index of -1 refers to the last item, -2 to the second last item and so on"
   ]
  },
  {
   "cell_type": "code",
   "execution_count": 94,
   "id": "f1eceffa",
   "metadata": {},
   "outputs": [
    {
     "name": "stdout",
     "output_type": "stream",
     "text": [
      "30\n",
      "50\n",
      "[20, 30]\n",
      "[10, 20, 30, 40, 50]\n",
      "[30, 40, 50]\n",
      "[10, 20, 30, 40]\n"
     ]
    }
   ],
   "source": [
    "# list of integer\n",
    "lis1 = [10,20,30,40,50]\n",
    "print(lis1[2])\n",
    "\n",
    "# print last element using negative index\n",
    "print(lis1[-1])\n",
    "\n",
    "# slicing from index 1 to index 3\n",
    "print(lis1[1:3])\n",
    "\n",
    "#other ways of slicing- use it as per requirement\n",
    "print(lis1[:])\n",
    "print(lis1[2:])\n",
    "print(lis1[:4])"
   ]
  },
  {
   "cell_type": "markdown",
   "id": "a43145b2",
   "metadata": {},
   "source": [
    "# Updating Lists"
   ]
  },
  {
   "cell_type": "code",
   "execution_count": 97,
   "id": "169f4453",
   "metadata": {},
   "outputs": [
    {
     "name": "stdout",
     "output_type": "stream",
     "text": [
      "list before updating the item ['Python', 'Java', 'C']\n",
      "List after updating the item ['Python', 'Java', 'R']\n"
     ]
    }
   ],
   "source": [
    "lis2 = [\"Python\",\"Java\",\"C\"]\n",
    "print(\"list before updating the item\",lis2)\n",
    "lis2[2] = \"R\"\n",
    "print(\"List after updating the item\",lis2)\n"
   ]
  },
  {
   "cell_type": "markdown",
   "id": "976837a9",
   "metadata": {},
   "source": [
    "# Delete List Elements"
   ]
  },
  {
   "cell_type": "code",
   "execution_count": null,
   "id": "916c4069",
   "metadata": {},
   "outputs": [],
   "source": [
    "To remove a list element, you can use either the del statement if you know exactly which element(s)\n",
    "you are deleting or the remove() method if you do not know"
   ]
  },
  {
   "cell_type": "code",
   "execution_count": 101,
   "id": "7c6bbe71",
   "metadata": {},
   "outputs": [
    {
     "name": "stdout",
     "output_type": "stream",
     "text": [
      "['Pyhton', 'Java']\n"
     ]
    },
    {
     "ename": "NameError",
     "evalue": "name 'lis3' is not defined",
     "output_type": "error",
     "traceback": [
      "\u001b[1;31m---------------------------------------------------------------------------\u001b[0m",
      "\u001b[1;31mNameError\u001b[0m                                 Traceback (most recent call last)",
      "\u001b[1;32m~\\AppData\\Local\\Temp\\ipykernel_14280\\3061526859.py\u001b[0m in \u001b[0;36m<module>\u001b[1;34m\u001b[0m\n\u001b[0;32m      7\u001b[0m \u001b[1;31m#del the full list\u001b[0m\u001b[1;33m\u001b[0m\u001b[1;33m\u001b[0m\u001b[0m\n\u001b[0;32m      8\u001b[0m \u001b[1;32mdel\u001b[0m \u001b[0mlis3\u001b[0m\u001b[1;33m\u001b[0m\u001b[1;33m\u001b[0m\u001b[0m\n\u001b[1;32m----> 9\u001b[1;33m \u001b[0mprint\u001b[0m\u001b[1;33m(\u001b[0m\u001b[0mlis3\u001b[0m\u001b[1;33m)\u001b[0m\u001b[1;33m\u001b[0m\u001b[1;33m\u001b[0m\u001b[0m\n\u001b[0m",
      "\u001b[1;31mNameError\u001b[0m: name 'lis3' is not defined"
     ]
    }
   ],
   "source": [
    "#del the item based on index position\n",
    "\n",
    "lis3 = [\"Pyhton\",\"Java\",\"C\"]\n",
    "del lis3[2]\n",
    "print(lis3)\n",
    "\n",
    "#del the full list\n",
    "del lis3\n",
    "print(lis3)"
   ]
  },
  {
   "cell_type": "markdown",
   "id": "ffb8a1a9",
   "metadata": {},
   "source": [
    "# Traversing list using for loop"
   ]
  },
  {
   "cell_type": "code",
   "execution_count": 104,
   "id": "86e1569e",
   "metadata": {},
   "outputs": [
    {
     "name": "stdout",
     "output_type": "stream",
     "text": [
      "Jan\n",
      "Feb\n",
      "Mar\n",
      "Apr\n",
      "May\n",
      "Jun\n",
      "Jul\n",
      "Aug\n",
      "Sep\n",
      "Oct\n",
      "Nov\n",
      "Dec\n"
     ]
    }
   ],
   "source": [
    "#Loop through a list\n",
    "Month = [\"Jan\",\"Feb\",\"Mar\",\"Apr\",\"May\",\"Jun\",\"Jul\",\"Aug\",\"Sep\",\"Oct\",\"Nov\",\"Dec\"]\n",
    "\n",
    "for element in Month:\n",
    "    print(element)"
   ]
  },
  {
   "cell_type": "markdown",
   "id": "d5f3f770",
   "metadata": {},
   "source": [
    "# Python Lists Methods Part1"
   ]
  },
  {
   "cell_type": "code",
   "execution_count": null,
   "id": "5415eec0",
   "metadata": {},
   "outputs": [],
   "source": [
    "Agenda:\n",
    "- 10 List Methods"
   ]
  },
  {
   "cell_type": "markdown",
   "id": "d3f75c7a",
   "metadata": {},
   "source": [
    "# 1. Concatenation"
   ]
  },
  {
   "cell_type": "code",
   "execution_count": 105,
   "id": "7be621fa",
   "metadata": {},
   "outputs": [
    {
     "name": "stdout",
     "output_type": "stream",
     "text": [
      "['Vinoth', 'Anand', 'Kuruman']\n",
      "['Thabang', 'Thabo']\n",
      "['Vinoth', 'Anand', 'Kuruman', 'Thabang', 'Thabo']\n"
     ]
    }
   ],
   "source": [
    "# \"+\" It concatenates two list, list1 and list2\n",
    "List1 = [\"Vinoth\",\"Anand\",\"Kuruman\"]\n",
    "List2 = [\"Thabang\",\"Thabo\"]\n",
    "Finallist = List1 + List2\n",
    "\n",
    "print(List1)\n",
    "print(List2)\n",
    "print(Finallist)"
   ]
  },
  {
   "cell_type": "markdown",
   "id": "508fb6e2",
   "metadata": {},
   "source": [
    "# 2. Length"
   ]
  },
  {
   "cell_type": "code",
   "execution_count": 107,
   "id": "aa42b461",
   "metadata": {},
   "outputs": [
    {
     "name": "stdout",
     "output_type": "stream",
     "text": [
      "Length of the list is 12\n"
     ]
    }
   ],
   "source": [
    "# Length of sequence, i.e. the number of elements in the list.\n",
    "List1 = [2,4,5,6,8,9,12,24,34,45,100,222]\n",
    "print(\"Length of the list is\",len(List1))\n"
   ]
  },
  {
   "cell_type": "markdown",
   "id": "2eb05c14",
   "metadata": {},
   "source": [
    "# 3. Repetition"
   ]
  },
  {
   "cell_type": "code",
   "execution_count": 108,
   "id": "109dde58",
   "metadata": {},
   "outputs": [
    {
     "name": "stdout",
     "output_type": "stream",
     "text": [
      "['Python', 'Python', 'Python', 'Python', 'Python']\n"
     ]
    }
   ],
   "source": [
    "# copies of list concatenated\n",
    "List1 = [\"Python\"]\n",
    "print(List1 * 5)"
   ]
  },
  {
   "cell_type": "markdown",
   "id": "8de691c4",
   "metadata": {},
   "source": [
    "# 4. Membership"
   ]
  },
  {
   "cell_type": "code",
   "execution_count": 110,
   "id": "e15d93e0",
   "metadata": {},
   "outputs": [
    {
     "name": "stdout",
     "output_type": "stream",
     "text": [
      "True\n",
      "True\n"
     ]
    }
   ],
   "source": [
    "# Sample code for 'in' operator - True if element x is in the list.\n",
    "List1 = [23,34,45,56,]\n",
    "print(23 in List1)\n",
    "\n",
    "# Sample code for 'not in' operator - True if element x is not in the list.\n",
    "print(99 not in List1)\n"
   ]
  },
  {
   "cell_type": "markdown",
   "id": "5b9e0b18",
   "metadata": {},
   "source": [
    "# 5. Smallest number in the list"
   ]
  },
  {
   "cell_type": "code",
   "execution_count": 112,
   "id": "4bd1815b",
   "metadata": {},
   "outputs": [
    {
     "name": "stdout",
     "output_type": "stream",
     "text": [
      "The Smallest number in the list is 23\n"
     ]
    }
   ],
   "source": [
    "# Smallest element in list.\n",
    "List1 = [23,34,45,56,]\n",
    "print(\"The Smallest number in the list is\",min(List1))"
   ]
  },
  {
   "cell_type": "markdown",
   "id": "36b6054f",
   "metadata": {},
   "source": [
    "# 6. Largest number in the list"
   ]
  },
  {
   "cell_type": "code",
   "execution_count": 113,
   "id": "4cd71d33",
   "metadata": {},
   "outputs": [
    {
     "name": "stdout",
     "output_type": "stream",
     "text": [
      "The largerst number in the list is 56\n"
     ]
    }
   ],
   "source": [
    "# Largest element in list.\n",
    "List1 = [23,34,45,56,]\n",
    "print(\"The largerst number in the list is\",max(List1))"
   ]
  },
  {
   "cell_type": "markdown",
   "id": "d525f669",
   "metadata": {},
   "source": [
    "# 7. Sum of all the numbers in the list"
   ]
  },
  {
   "cell_type": "code",
   "execution_count": 114,
   "id": "bba07ff4",
   "metadata": {},
   "outputs": [
    {
     "name": "stdout",
     "output_type": "stream",
     "text": [
      "Sum of all the numbers in the list is 158\n"
     ]
    }
   ],
   "source": [
    "# Sum of all numbers in list.\n",
    "List1 = [23,34,45,56,]\n",
    "print(\"Sum of all the numbers in the list is\",sum(List1))\n"
   ]
  },
  {
   "cell_type": "markdown",
   "id": "067ae0ca",
   "metadata": {},
   "source": [
    "# 8. Append"
   ]
  },
  {
   "cell_type": "code",
   "execution_count": 126,
   "id": "d556a315",
   "metadata": {},
   "outputs": [
    {
     "name": "stdout",
     "output_type": "stream",
     "text": [
      "['Vinoth', 'Kurma', 'Rajesh']\n",
      "['Vinoth', 'Kurma', 'Rajesh', ['Age', 'Food']]\n"
     ]
    }
   ],
   "source": [
    "# It adds an element x to the end of the list and returns none.\n",
    "\n",
    "# Appending the element\n",
    "lisst1 = [\"Vinoth\",\"Kurma\"]\n",
    "lisst1.append(\"Rajesh\")\n",
    "print(lisst1)\n",
    "\n",
    "#Appending the element\n",
    "lisst2 = [\"Age\",\"Food\"]\n",
    "lisst1.append(lisst2)\n",
    "print(lisst1)\n"
   ]
  },
  {
   "cell_type": "markdown",
   "id": "7c80571f",
   "metadata": {},
   "source": [
    "# 9. Extend"
   ]
  },
  {
   "cell_type": "code",
   "execution_count": 128,
   "id": "11d994f4",
   "metadata": {},
   "outputs": [
    {
     "name": "stdout",
     "output_type": "stream",
     "text": [
      "['Vinoth', 'Kurma', 'Age', 'Food']\n"
     ]
    }
   ],
   "source": [
    "#Appends all the elements from one list to another list and returns None.\n",
    "lisst1 = [\"Vinoth\",\"Kurma\"]\n",
    "lisst2 = [\"Age\",\"Food\"]\n",
    "\n",
    "lisst1.extend(lisst2)\n",
    "print(lisst1)\n",
    "\n"
   ]
  },
  {
   "cell_type": "markdown",
   "id": "d1582eed",
   "metadata": {},
   "source": [
    "# 10. Insert"
   ]
  },
  {
   "cell_type": "code",
   "execution_count": 131,
   "id": "43761bc2",
   "metadata": {},
   "outputs": [
    {
     "name": "stdout",
     "output_type": "stream",
     "text": [
      "[1, 2, 3, 4, 5, 6, 7, 8, 9, 10]\n",
      "['Thabang', 'Thabo', 'Sphola']\n"
     ]
    }
   ],
   "source": [
    "# Inserts an element x at a given index.\n",
    "# Note: The first element in the list has index 0 and returns None..\n",
    "\n",
    "List1 = [1,2,3,4,6,7,8,9,10]\n",
    "List1.insert(4,5) #location, value as arguments\n",
    "print(List1)\n",
    "\n",
    "List2 = [\"Thabang\",\"Thabo\"]\n",
    "List2.insert(2,\"Sphola\")\n",
    "print(List2)"
   ]
  },
  {
   "cell_type": "markdown",
   "id": "d8734633",
   "metadata": {},
   "source": [
    "# Python Lists Methods Part2"
   ]
  },
  {
   "cell_type": "code",
   "execution_count": null,
   "id": "0d97303c",
   "metadata": {},
   "outputs": [],
   "source": [
    "Agenda:\n",
    "- 5 List Methods\n",
    "- String Split to create a list\n",
    "- List Comprehensions"
   ]
  },
  {
   "cell_type": "markdown",
   "id": "9eff9ea2",
   "metadata": {},
   "source": [
    "# 11. Remove"
   ]
  },
  {
   "cell_type": "code",
   "execution_count": 133,
   "id": "68994bc4",
   "metadata": {},
   "outputs": [
    {
     "name": "stdout",
     "output_type": "stream",
     "text": [
      "[1, 2, 3, 4, 6, 7, 8]\n",
      "['Thabang']\n"
     ]
    }
   ],
   "source": [
    "#Removes the first occurence of elements x from the list and returns None\n",
    "list1 = [1,2,3,4,5,6,7,8,]\n",
    "list1.remove(5) # it will remove first occurence of '5' in a given list\n",
    "print(list1)\n",
    "\n",
    "list2 = [\"Thabang\",\"Thabo\"]\n",
    "list2.remove(\"Thabo\")\n",
    "print(list2)\n"
   ]
  },
  {
   "cell_type": "markdown",
   "id": "66163393",
   "metadata": {},
   "source": [
    "# 12. Pop"
   ]
  },
  {
   "cell_type": "code",
   "execution_count": 135,
   "id": "58a41a84",
   "metadata": {},
   "outputs": [
    {
     "name": "stdout",
     "output_type": "stream",
     "text": [
      "The value removed is 8\n",
      "[1, 2, 3, 4, 5, 6, 7]\n",
      "The name removed is Thabang\n",
      "['Thabo']\n"
     ]
    }
   ],
   "source": [
    "#Removes the element at the given position and returns it. The paramemter i is option...\n",
    "# If it is not specified, pop() removes and returns the last element in the list.\n",
    "\n",
    "list1 = [1,2,3,4,5,6,7,8,]\n",
    "a = list1.pop()\n",
    "print(\"The value removed is\",a)\n",
    "print(list1)\n",
    "\n",
    "list2 = [\"Thabang\",\"Thabo\"]\n",
    "a = list2.pop(0)\n",
    "print(\"The name removed is\",a)\n",
    "print(list2)\n"
   ]
  },
  {
   "cell_type": "markdown",
   "id": "9e39a37b",
   "metadata": {},
   "source": [
    "# 13. Count"
   ]
  },
  {
   "cell_type": "code",
   "execution_count": 136,
   "id": "290fc422",
   "metadata": {},
   "outputs": [
    {
     "name": "stdout",
     "output_type": "stream",
     "text": [
      "4\n"
     ]
    }
   ],
   "source": [
    "# Returns the number of times element x appears in the list.\n",
    "numbers = [1,2,3,1,3,2,3,3]\n",
    "print(numbers.count(3))"
   ]
  },
  {
   "cell_type": "markdown",
   "id": "14bffeec",
   "metadata": {},
   "source": [
    "# 14. Reverse"
   ]
  },
  {
   "cell_type": "code",
   "execution_count": 138,
   "id": "88b309a5",
   "metadata": {},
   "outputs": [
    {
     "name": "stdout",
     "output_type": "stream",
     "text": [
      "[10, 9, 8, 7, 6, 5, 4, 3, 2, 1]\n",
      "['Thabo', 'Thabang']\n"
     ]
    }
   ],
   "source": [
    "# Reverse the list and returns None\n",
    "list1 = [1,2,3,4,5,6,7,8,9,10]\n",
    "list1.reverse()\n",
    "print(list1)\n",
    "\n",
    "list2 = [\"Thabang\",\"Thabo\"]\n",
    "list2.reverse()\n",
    "print(list2)"
   ]
  },
  {
   "cell_type": "markdown",
   "id": "01fa6ab8",
   "metadata": {},
   "source": [
    "# 15. Sort"
   ]
  },
  {
   "cell_type": "code",
   "execution_count": null,
   "id": "c72f8608",
   "metadata": {},
   "outputs": [],
   "source": [
    "- The sort()method sorts the elements of a given list in a specific order - Ascending or Descending.\n",
    "- By default in ascending order\n",
    "- The original list is not changed."
   ]
  },
  {
   "cell_type": "code",
   "execution_count": 142,
   "id": "5d9b4afc",
   "metadata": {},
   "outputs": [
    {
     "name": "stdout",
     "output_type": "stream",
     "text": [
      "['a', 'e', 'i', 'o', 'u']\n"
     ]
    }
   ],
   "source": [
    "# vowels list\n",
    "vowels = ['e','a','u','o','i']\n",
    "\n",
    "#sort the vowels\n",
    "vowels.sort()\n",
    "\n",
    "#print vowels\n",
    "print(vowels)\n",
    "\n"
   ]
  },
  {
   "cell_type": "code",
   "execution_count": 141,
   "id": "a79a5f45",
   "metadata": {},
   "outputs": [
    {
     "name": "stdout",
     "output_type": "stream",
     "text": [
      "['u', 'o', 'i', 'e', 'a']\n"
     ]
    }
   ],
   "source": [
    "#Setting reverse = True sorts the list in a descending order\n",
    "\n",
    "# vowels list\n",
    "vowels = ['e','a','u','o','i']\n",
    "\n",
    "#sort the vowels\n",
    "vowels.sort(reverse=True) # Reversing the vowels\n",
    "\n",
    "#print vowels\n",
    "print(vowels)"
   ]
  },
  {
   "cell_type": "code",
   "execution_count": 143,
   "id": "a51019bc",
   "metadata": {},
   "outputs": [
    {
     "name": "stdout",
     "output_type": "stream",
     "text": [
      "[10, 9, 8, 7, 6, 5, 4, 3, 2, 1]\n"
     ]
    }
   ],
   "source": [
    "# Numbers\n",
    "# sort the vowels\n",
    "list1 = [1,2,3,4,5,6,7,8,9,10]\n",
    "list1.sort(reverse=True)  # Sort the vowels \n",
    "print(list1)"
   ]
  },
  {
   "cell_type": "markdown",
   "id": "1909a002",
   "metadata": {},
   "source": [
    "# String split to create a list"
   ]
  },
  {
   "cell_type": "code",
   "execution_count": 144,
   "id": "902cc69a",
   "metadata": {},
   "outputs": [
    {
     "name": "stdout",
     "output_type": "stream",
     "text": [
      "['Welcome', 'to', 'pyhon', 'class']\n",
      "['Samuel', 'Heaven', 'Nkanyane']\n",
      "['1212', '2323', '3434', '4545']\n"
     ]
    }
   ],
   "source": [
    "# split () method breaks up a string at the specified separator and returns a list of strings.\n",
    "\n",
    "# splits at space\n",
    "st1 = 'Welcome to pyhon class'\n",
    "print(st1.split())\n",
    "\n",
    "# splits at ','\n",
    "st2 = \"Samuel,Heaven,Nkanyane\"\n",
    "print(st2.split(','))\n",
    "\n",
    "# splits at ':'\n",
    "st3 = \"1212:2323:3434:4545\"\n",
    "print(st3.split(':'))"
   ]
  },
  {
   "cell_type": "markdown",
   "id": "a112252f",
   "metadata": {},
   "source": [
    "# List comprehensions"
   ]
  },
  {
   "cell_type": "code",
   "execution_count": null,
   "id": "3cca4605",
   "metadata": {},
   "outputs": [],
   "source": [
    "- List comprehension is an elegant and concise way to to create new list from an existing list in python.\n",
    "- List comprehension consists of an expression followed by for statement inside square brackets."
   ]
  },
  {
   "cell_type": "code",
   "execution_count": 145,
   "id": "1c522fdc",
   "metadata": {},
   "outputs": [
    {
     "name": "stdout",
     "output_type": "stream",
     "text": [
      "[0, 1, 4, 9, 16, 25, 36, 49, 64, 81]\n"
     ]
    }
   ],
   "source": [
    "# Without list comprehension\n",
    "cube = []\n",
    "for i in range(10):\n",
    "    cube.append(i**2)\n",
    "print(cube)\n"
   ]
  },
  {
   "cell_type": "code",
   "execution_count": 146,
   "id": "c02b877a",
   "metadata": {},
   "outputs": [
    {
     "name": "stdout",
     "output_type": "stream",
     "text": [
      "[0, 1, 4, 9, 16, 25, 36, 49, 64, 81]\n"
     ]
    }
   ],
   "source": [
    "# Using list comprehension\n",
    "cube = [i**2 for i in range(10)]\n",
    "print(cube)\n"
   ]
  },
  {
   "cell_type": "code",
   "execution_count": 148,
   "id": "17884c9e",
   "metadata": {},
   "outputs": [
    {
     "name": "stdout",
     "output_type": "stream",
     "text": [
      "The even numbers in a list are [0, 2, 4, 6, 8, 10, 12, 14, 16, 18]\n",
      "The odd numbers in a list are [1, 3, 5, 7, 9, 11, 13, 15, 17, 19]\n"
     ]
    }
   ],
   "source": [
    "# print the even numbers\n",
    "\n",
    "list1 = [x for x in range(20) if x % 2 == 0]\n",
    "print(\"The even numbers in a list are\",list1)\n",
    "\n",
    "list2 = [x for x in range(20) if x %2 != 0]\n",
    "print(\"The odd numbers in a list are\",list2)"
   ]
  },
  {
   "cell_type": "markdown",
   "id": "e5058eb8",
   "metadata": {},
   "source": [
    "# Section 5: Python Data Types- Tuples and Dictionaries"
   ]
  },
  {
   "cell_type": "code",
   "execution_count": null,
   "id": "0b76d85c",
   "metadata": {},
   "outputs": [],
   "source": [
    "Agenda:\n",
    "- What is a Tuples\n",
    "- How to create Tuples\n",
    "- List indexing and Slicing\n",
    "- How to update the Tuples\n",
    "- How to delete the Tuples\n",
    "- Traversing Tuples using For loop"
   ]
  },
  {
   "cell_type": "markdown",
   "id": "3cc31e44",
   "metadata": {},
   "source": [
    "# What is Tuples?"
   ]
  },
  {
   "cell_type": "code",
   "execution_count": null,
   "id": "d14099c3",
   "metadata": {},
   "outputs": [],
   "source": [
    "- A Tuple is a collection which is ordered and unchangeable.\n",
    "- Tuples are very similar to list, but once a tuple is created, you cannot add, delete, replace,\n",
    "reorder elements. i.e. IMMUTABLE\n",
    "- Tuples are enclosed parentheses ()\n",
    "- Each item in a Tuple is separated by a comma\n",
    "Eg: tuple1 = [1,2,3,4,5]\n",
    "- Tuples are collection of items (Strings, integers or even other lists)\n",
    "- Each item in the Tuples has an assigned index value."
   ]
  },
  {
   "cell_type": "markdown",
   "id": "c237ebe7",
   "metadata": {},
   "source": [
    "# Creating Tuples in python"
   ]
  },
  {
   "cell_type": "code",
   "execution_count": 158,
   "id": "da7967b0",
   "metadata": {},
   "outputs": [
    {
     "name": "stdout",
     "output_type": "stream",
     "text": [
      "Empty Tuple ()\n",
      "Tuples with Numbers (1, 2, 3, 4, 5)\n",
      "Tuples with string ('Vinoth', 'James', 'Thabo')\n",
      "Nested tuple ((12, 23), ('Java', 'python'))\n",
      "Tuples of different data types is (12, 12.4, 'python', (12, 12))\n"
     ]
    }
   ],
   "source": [
    "# Create an empty Tuple\n",
    "tuple1 = ()\n",
    "print(\"Empty Tuple\",tuple1)\n",
    "\n",
    "# Tuple having integers\n",
    "tuple2 = (1,2,3,4,5)\n",
    "print(\"Tuples with Numbers\",tuple2)\n",
    "\n",
    "#Tuples having strings\n",
    "tuple3 = (\"Vinoth\",\"James\",\"Thabo\")\n",
    "print(\"Tuples with string\",tuple3)\n",
    "\n",
    "#Nested Tuples\n",
    "tuple4 = ((12,23),(\"Java\",\"python\"))\n",
    "print(\"Nested tuple\",tuple4)\n",
    "\n",
    "# Tuples of different data types\n",
    "tuple5 = (12,12.4,'python',(12,12))\n",
    "print(\"Tuples of different data types is\",tuple5)"
   ]
  },
  {
   "cell_type": "code",
   "execution_count": 2,
   "id": "7b8d1146",
   "metadata": {},
   "outputs": [
    {
     "name": "stdout",
     "output_type": "stream",
     "text": [
      "<class 'str'>\n",
      "<class 'tuple'>\n"
     ]
    }
   ],
   "source": [
    "# Note:\n",
    "# parenthesis without comma at the end\n",
    "name = ('python')\n",
    "print(type(name))\n",
    "\n",
    "# parenthesis with comma at the end\n",
    "name2 = ('python',)\n",
    "print(type(name2))"
   ]
  },
  {
   "cell_type": "markdown",
   "id": "f7daa6ef",
   "metadata": {},
   "source": [
    "# List indexing and Slicing"
   ]
  },
  {
   "cell_type": "code",
   "execution_count": null,
   "id": "5dbe4aaf",
   "metadata": {},
   "outputs": [],
   "source": [
    "- We can access individual elements using indexing and a range of characters using slicing.\n",
    "- Index starts from 0\n",
    "- Left to right direction\n",
    "#Example\n",
    "    List2-10,20,30,40,50\n",
    "    Index-0,1,2,3,4,5\n",
    "    Negative index--5-4-3-2-1\n",
    "- Index starts from -1\n",
    "- Right to left direction\n",
    "- The index of -1 refers to the last item, -2 to the second last item and so on"
   ]
  },
  {
   "cell_type": "code",
   "execution_count": 3,
   "id": "3c97b17b",
   "metadata": {},
   "outputs": [
    {
     "name": "stdout",
     "output_type": "stream",
     "text": [
      "30\n",
      "50\n",
      "[20, 30]\n",
      "[10, 20, 30, 40, 50]\n",
      "[30, 40, 50]\n",
      "[10, 20, 30, 40]\n"
     ]
    }
   ],
   "source": [
    "# tuple integer\n",
    "tuple1 = [10,20,30,40,50]\n",
    "print(tuple1[2]) #print second element\n",
    "\n",
    "# print last element using negative index\n",
    "print(tuple1[-1])\n",
    "\n",
    "# slicing from index 1 to index 3\n",
    "print(tuple1[1:3])\n",
    "\n",
    "#other ways of slicing- use it as per requirement\n",
    "print(tuple1[:])\n",
    "print(tuple1[2:])\n",
    "print(tuple1[:4])"
   ]
  },
  {
   "cell_type": "markdown",
   "id": "cf106c43",
   "metadata": {},
   "source": [
    "# Updating Tuples"
   ]
  },
  {
   "cell_type": "code",
   "execution_count": null,
   "id": "16bc63d1",
   "metadata": {},
   "outputs": [],
   "source": [
    "Tuples are immutable which means you cannot update or change the values of tuple elements"
   ]
  },
  {
   "cell_type": "code",
   "execution_count": 10,
   "id": "22b89803",
   "metadata": {},
   "outputs": [
    {
     "ename": "IndexError",
     "evalue": "list assignment index out of range",
     "output_type": "error",
     "traceback": [
      "\u001b[1;31m---------------------------------------------------------------------------\u001b[0m",
      "\u001b[1;31mIndexError\u001b[0m                                Traceback (most recent call last)",
      "\u001b[1;32m~\\AppData\\Local\\Temp\\ipykernel_4364\\2605506761.py\u001b[0m in \u001b[0;36m<module>\u001b[1;34m\u001b[0m\n\u001b[0;32m      1\u001b[0m \u001b[1;31m# Will get TypeError\u001b[0m\u001b[1;33m\u001b[0m\u001b[1;33m\u001b[0m\u001b[0m\n\u001b[0;32m      2\u001b[0m \u001b[0mtuple1\u001b[0m \u001b[1;33m=\u001b[0m \u001b[1;33m(\u001b[0m\u001b[1;34m\"Python\"\u001b[0m\u001b[1;33m,\u001b[0m\u001b[1;34m\"Java\"\u001b[0m\u001b[1;33m,\u001b[0m\u001b[1;34m\"C\"\u001b[0m\u001b[1;33m)\u001b[0m\u001b[1;33m\u001b[0m\u001b[1;33m\u001b[0m\u001b[0m\n\u001b[1;32m----> 3\u001b[1;33m \u001b[0mtuple2\u001b[0m\u001b[1;33m[\u001b[0m\u001b[1;36m2\u001b[0m\u001b[1;33m]\u001b[0m \u001b[1;33m=\u001b[0m \u001b[1;34m\"R\"\u001b[0m\u001b[1;33m\u001b[0m\u001b[1;33m\u001b[0m\u001b[0m\n\u001b[0m\u001b[0;32m      4\u001b[0m \u001b[0mprint\u001b[0m\u001b[1;33m(\u001b[0m\u001b[0mtuple2\u001b[0m\u001b[1;33m)\u001b[0m\u001b[1;33m\u001b[0m\u001b[1;33m\u001b[0m\u001b[0m\n\u001b[0;32m      5\u001b[0m \u001b[1;33m\u001b[0m\u001b[0m\n",
      "\u001b[1;31mIndexError\u001b[0m: list assignment index out of range"
     ]
    }
   ],
   "source": [
    "# Will get TypeError\n",
    "tuple1 = (\"Python\",\"Java\",\"C\")\n",
    "tuple2[2] = \"R\"\n",
    "print(tuple2)\n",
    "\n",
    "#Note: you get an error because tuples cannot be updated!"
   ]
  },
  {
   "cell_type": "markdown",
   "id": "30121b83",
   "metadata": {},
   "source": [
    "# Delete Tuple Elements"
   ]
  },
  {
   "cell_type": "code",
   "execution_count": null,
   "id": "47d8d510",
   "metadata": {},
   "outputs": [],
   "source": [
    "- Removing individual tuple elements is not possible\n",
    "- To explicitly remove an entire tuple, just use the del statement"
   ]
  },
  {
   "cell_type": "code",
   "execution_count": 12,
   "id": "c1c566e0",
   "metadata": {},
   "outputs": [
    {
     "ename": "TypeError",
     "evalue": "'tuple' object doesn't support item deletion",
     "output_type": "error",
     "traceback": [
      "\u001b[1;31m---------------------------------------------------------------------------\u001b[0m",
      "\u001b[1;31mTypeError\u001b[0m                                 Traceback (most recent call last)",
      "\u001b[1;32m~\\AppData\\Local\\Temp\\ipykernel_4364\\686415774.py\u001b[0m in \u001b[0;36m<module>\u001b[1;34m\u001b[0m\n\u001b[0;32m      1\u001b[0m \u001b[1;31m#Delete a particular item\u001b[0m\u001b[1;33m\u001b[0m\u001b[1;33m\u001b[0m\u001b[0m\n\u001b[0;32m      2\u001b[0m \u001b[0mtuples2\u001b[0m \u001b[1;33m=\u001b[0m \u001b[1;33m(\u001b[0m\u001b[1;34m\"Pyhton\"\u001b[0m\u001b[1;33m,\u001b[0m\u001b[1;34m\"Java\"\u001b[0m\u001b[1;33m,\u001b[0m\u001b[1;34m\"C\"\u001b[0m\u001b[1;33m)\u001b[0m\u001b[1;33m\u001b[0m\u001b[1;33m\u001b[0m\u001b[0m\n\u001b[1;32m----> 3\u001b[1;33m \u001b[1;32mdel\u001b[0m \u001b[0mtuples2\u001b[0m\u001b[1;33m[\u001b[0m\u001b[1;36m2\u001b[0m\u001b[1;33m]\u001b[0m\u001b[1;33m\u001b[0m\u001b[1;33m\u001b[0m\u001b[0m\n\u001b[0m\u001b[0;32m      4\u001b[0m \u001b[0mprint\u001b[0m\u001b[1;33m(\u001b[0m\u001b[0mtuples2\u001b[0m\u001b[1;33m)\u001b[0m\u001b[1;33m\u001b[0m\u001b[1;33m\u001b[0m\u001b[0m\n\u001b[0;32m      5\u001b[0m \u001b[1;33m\u001b[0m\u001b[0m\n",
      "\u001b[1;31mTypeError\u001b[0m: 'tuple' object doesn't support item deletion"
     ]
    }
   ],
   "source": [
    "#Delete a particular item\n",
    "tuples2 = (\"Pyhton\",\"Java\",\"C\")\n",
    "del tuples2[2]\n",
    "print(tuples2)\n",
    "\n",
    "#Note: it will give you an error as it does not support the item delete"
   ]
  },
  {
   "cell_type": "code",
   "execution_count": 13,
   "id": "b29a9007",
   "metadata": {},
   "outputs": [
    {
     "ename": "NameError",
     "evalue": "name 'tuples2' is not defined",
     "output_type": "error",
     "traceback": [
      "\u001b[1;31m---------------------------------------------------------------------------\u001b[0m",
      "\u001b[1;31mNameError\u001b[0m                                 Traceback (most recent call last)",
      "\u001b[1;32m~\\AppData\\Local\\Temp\\ipykernel_4364\\3863619084.py\u001b[0m in \u001b[0;36m<module>\u001b[1;34m\u001b[0m\n\u001b[0;32m      2\u001b[0m \u001b[0mtuples2\u001b[0m \u001b[1;33m=\u001b[0m \u001b[1;33m(\u001b[0m\u001b[1;34m\"java\"\u001b[0m\u001b[1;33m,\u001b[0m\u001b[1;34m\"C\"\u001b[0m\u001b[1;33m)\u001b[0m\u001b[1;33m\u001b[0m\u001b[1;33m\u001b[0m\u001b[0m\n\u001b[0;32m      3\u001b[0m \u001b[1;32mdel\u001b[0m \u001b[0mtuples2\u001b[0m\u001b[1;33m\u001b[0m\u001b[1;33m\u001b[0m\u001b[0m\n\u001b[1;32m----> 4\u001b[1;33m \u001b[0mprint\u001b[0m\u001b[1;33m(\u001b[0m\u001b[0mtuples2\u001b[0m\u001b[1;33m)\u001b[0m\u001b[1;33m\u001b[0m\u001b[1;33m\u001b[0m\u001b[0m\n\u001b[0m\u001b[0;32m      5\u001b[0m \u001b[1;33m\u001b[0m\u001b[0m\n\u001b[0;32m      6\u001b[0m \u001b[1;31m#Note: The entire tuple will be deleted\u001b[0m\u001b[1;33m\u001b[0m\u001b[1;33m\u001b[0m\u001b[0m\n",
      "\u001b[1;31mNameError\u001b[0m: name 'tuples2' is not defined"
     ]
    }
   ],
   "source": [
    "#del the full tuple\n",
    "tuples2 = (\"java\",\"C\")\n",
    "del tuples2\n",
    "print(tuples2)\n",
    "\n",
    "#Note: The entire tuple will be deleted "
   ]
  },
  {
   "cell_type": "markdown",
   "id": "697f3d64",
   "metadata": {},
   "source": [
    "# Traversing Tuple using for loop"
   ]
  },
  {
   "cell_type": "code",
   "execution_count": 14,
   "id": "ca837681",
   "metadata": {},
   "outputs": [
    {
     "name": "stdout",
     "output_type": "stream",
     "text": [
      "Jan\n",
      "Feb\n",
      "Mar\n",
      "Apr\n",
      "May\n",
      "Jun\n",
      "Jul\n",
      "Aug\n",
      "Sep\n",
      "Oct\n",
      "Nov\n",
      "Dec\n"
     ]
    }
   ],
   "source": [
    "#Loop through a tuple\n",
    "Month = [\"Jan\",\"Feb\",\"Mar\",\"Apr\",\"May\",\"Jun\",\"Jul\",\"Aug\",\"Sep\",\"Oct\",\"Nov\",\"Dec\"]\n",
    "\n",
    "for element in Month:\n",
    "    print(element)"
   ]
  },
  {
   "cell_type": "markdown",
   "id": "5233d6d4",
   "metadata": {},
   "source": [
    "# Tuple Methods"
   ]
  },
  {
   "cell_type": "code",
   "execution_count": null,
   "id": "328d600e",
   "metadata": {},
   "outputs": [],
   "source": [
    "Agenda:\n",
    "10 Tuples methods\n",
    "How to convert other data type to tuples\n",
    "Advantages of tuples over lists"
   ]
  },
  {
   "cell_type": "markdown",
   "id": "8f6f16d2",
   "metadata": {},
   "source": [
    "# 1. Concatenation"
   ]
  },
  {
   "cell_type": "code",
   "execution_count": 16,
   "id": "978813a8",
   "metadata": {},
   "outputs": [
    {
     "name": "stdout",
     "output_type": "stream",
     "text": [
      "('Vinoth', 'Anand', 'Kuruman')\n",
      "('Thabang', 'Thabo')\n",
      "('Vinoth', 'Anand', 'Kuruman', 'Thabang', 'Thabo')\n"
     ]
    }
   ],
   "source": [
    "# \"+\" It concatenates two tuples, tuple1 and tuple2\n",
    "tuples1 = (\"Vinoth\",\"Anand\",\"Kuruman\")\n",
    "tuples2 = (\"Thabang\",\"Thabo\")\n",
    "Finallist = tuples1 + tuples2\n",
    "\n",
    "print(tuples1)\n",
    "print(tuples2)\n",
    "print(Finallist)"
   ]
  },
  {
   "cell_type": "markdown",
   "id": "f1ac8cd8",
   "metadata": {},
   "source": [
    "# 2. Length"
   ]
  },
  {
   "cell_type": "code",
   "execution_count": 18,
   "id": "460e590c",
   "metadata": {},
   "outputs": [
    {
     "name": "stdout",
     "output_type": "stream",
     "text": [
      "Length of the tuple is 12\n"
     ]
    }
   ],
   "source": [
    "# Length of sequence, i.e. the number of elements in the tuple.\n",
    "tuple1 = [2,4,5,6,8,9,12,24,34,45,100,222]\n",
    "print(\"Length of the tuple is\",len(tuple1))"
   ]
  },
  {
   "cell_type": "markdown",
   "id": "99172f64",
   "metadata": {},
   "source": [
    "# 3. Repetition"
   ]
  },
  {
   "cell_type": "code",
   "execution_count": 19,
   "id": "057c56ea",
   "metadata": {},
   "outputs": [
    {
     "name": "stdout",
     "output_type": "stream",
     "text": [
      "['Python', 'Python', 'Python', 'Python', 'Python']\n"
     ]
    }
   ],
   "source": [
    "# copies of tuples concatenated\n",
    "tuple1 = [\"Python\"]\n",
    "print(tuple1 * 5)"
   ]
  },
  {
   "cell_type": "markdown",
   "id": "0e4a3695",
   "metadata": {},
   "source": [
    "# 4. Membership"
   ]
  },
  {
   "cell_type": "code",
   "execution_count": 20,
   "id": "b0b78ff5",
   "metadata": {},
   "outputs": [
    {
     "name": "stdout",
     "output_type": "stream",
     "text": [
      "True\n",
      "True\n"
     ]
    }
   ],
   "source": [
    "# Sample code for 'in' operator - True if element x is in the tuple.\n",
    "tuple1 = [23,34,45,56,]\n",
    "print(23 in tuple1)\n",
    "\n",
    "# Sample code for 'not in' operator - True if element x is not in the tuple.\n",
    "print(99 not in tuple1)\n"
   ]
  },
  {
   "cell_type": "markdown",
   "id": "ac4e04ac",
   "metadata": {},
   "source": [
    "# 5. Smallest number in a tuple"
   ]
  },
  {
   "cell_type": "code",
   "execution_count": 22,
   "id": "2f8a1b25",
   "metadata": {},
   "outputs": [
    {
     "name": "stdout",
     "output_type": "stream",
     "text": [
      "The Smallest number in the tuple is 23\n"
     ]
    }
   ],
   "source": [
    "# Smallest element in tuple.\n",
    "tuple1 = [23,34,45,56,]\n",
    "print(\"The Smallest number in the tuple is\",min(tuple1))"
   ]
  },
  {
   "cell_type": "markdown",
   "id": "a869553c",
   "metadata": {},
   "source": [
    "# 6. Largest number in a tuple"
   ]
  },
  {
   "cell_type": "code",
   "execution_count": 24,
   "id": "03def514",
   "metadata": {},
   "outputs": [
    {
     "name": "stdout",
     "output_type": "stream",
     "text": [
      "The largerst number in the tuple is 56\n"
     ]
    }
   ],
   "source": [
    "# Largest element in tuple.\n",
    "tuple1 = [23,34,45,56,]\n",
    "print(\"The largerst number in the tuple is\",max(tuple1))"
   ]
  },
  {
   "cell_type": "markdown",
   "id": "2071f1c1",
   "metadata": {},
   "source": [
    "# 7. Sum of all the numbers in a tuple"
   ]
  },
  {
   "cell_type": "code",
   "execution_count": 26,
   "id": "06afa523",
   "metadata": {},
   "outputs": [
    {
     "name": "stdout",
     "output_type": "stream",
     "text": [
      "Sum of all the numbers in the tuple is 158\n"
     ]
    }
   ],
   "source": [
    "# Sum of all numbers in tuple.\n",
    "tuple1 = [23,34,45,56,]\n",
    "print(\"Sum of all the numbers in the tuple is\",sum(tuple1))\n"
   ]
  },
  {
   "cell_type": "markdown",
   "id": "cc5495ff",
   "metadata": {},
   "source": [
    "# 8. Count"
   ]
  },
  {
   "cell_type": "code",
   "execution_count": 29,
   "id": "4bc1d0eb",
   "metadata": {},
   "outputs": [
    {
     "name": "stdout",
     "output_type": "stream",
     "text": [
      "The number of times the element occured is 4\n"
     ]
    }
   ],
   "source": [
    "# Returns the number of times element x appears in the tuple.\n",
    "numbers = [1,2,3,1,3,2,3,3]\n",
    "print(\"The number of times the element occured is\",numbers.count(3))"
   ]
  },
  {
   "cell_type": "markdown",
   "id": "ce4880a7",
   "metadata": {},
   "source": [
    "# 9. Index"
   ]
  },
  {
   "cell_type": "code",
   "execution_count": 31,
   "id": "daceb18b",
   "metadata": {},
   "outputs": [
    {
     "name": "stdout",
     "output_type": "stream",
     "text": [
      "The idex value of given integer is 0\n",
      "The index value of given string is 2\n"
     ]
    }
   ],
   "source": [
    "# index () method searchse for the given element in a tuple and returns its position\n",
    "# However, if the element is present more than once, the first/smallest position is returned\n",
    "\n",
    "#integer example\n",
    "numbers = (1,2,1,1,3,4,5)\n",
    "print(\"The idex value of given integer is\",numbers.index(1))\n",
    "\n",
    "names = ('vinoth','Nathi','Musa','Thabo')\n",
    "print(\"The index value of given string is\",names.index('Musa'))"
   ]
  },
  {
   "cell_type": "markdown",
   "id": "59e48a2d",
   "metadata": {},
   "source": [
    "# 10. Sort"
   ]
  },
  {
   "cell_type": "code",
   "execution_count": null,
   "id": "fff4c34c",
   "metadata": {},
   "outputs": [],
   "source": [
    "- The sort()method sorts the elements of a given tuple in a specific order - Ascending or Descending.\n",
    "- By default in ascending order\n",
    "- The original tuple is not changed."
   ]
  },
  {
   "cell_type": "code",
   "execution_count": 33,
   "id": "94624e21",
   "metadata": {},
   "outputs": [
    {
     "name": "stdout",
     "output_type": "stream",
     "text": [
      "sorted tuples: ['a', 'e', 'i', 'o', 'u']\n"
     ]
    }
   ],
   "source": [
    "# sort the vowels in ascending order\n",
    "vowels = ['e','a','u','o','i']\n",
    "print('sorted tuples:',sorted(vowels))\n",
    "\n"
   ]
  },
  {
   "cell_type": "code",
   "execution_count": 35,
   "id": "302c03b9",
   "metadata": {},
   "outputs": [
    {
     "name": "stdout",
     "output_type": "stream",
     "text": [
      "Sorted Tuple (in descending): ['u', 'o', 'i', 'e', 'a']\n"
     ]
    }
   ],
   "source": [
    "# Setting reverse=True sorts the tuples in the descending order\n",
    "vowels = ('e','a','u','o','i')\n",
    "print('Sorted Tuple (in descending):', sorted(vowels,reverse=True))"
   ]
  },
  {
   "cell_type": "code",
   "execution_count": 37,
   "id": "fc1b8bad",
   "metadata": {},
   "outputs": [
    {
     "name": "stdout",
     "output_type": "stream",
     "text": [
      "Sorted numbers: [1, 2, 4, 5, 23, 99]\n"
     ]
    }
   ],
   "source": [
    "# Sort the numnbers in a Ascending order\n",
    "numbers = (99,23,4,1,2,5,)\n",
    "print('Sorted numbers:',sorted(numbers))"
   ]
  },
  {
   "cell_type": "code",
   "execution_count": null,
   "id": "f7fe2848",
   "metadata": {},
   "outputs": [],
   "source": [
    "Note: Methods that add items or remove items are not available with tuple as it is immutable"
   ]
  },
  {
   "cell_type": "markdown",
   "id": "a2a69621",
   "metadata": {},
   "source": [
    "# How to create tuples using tuple()?"
   ]
  },
  {
   "cell_type": "code",
   "execution_count": 39,
   "id": "5dd8df32",
   "metadata": {},
   "outputs": [
    {
     "name": "stdout",
     "output_type": "stream",
     "text": [
      "List to tuple conversion (0, 1, 3, 4)\n"
     ]
    }
   ],
   "source": [
    "# Createing tuple from a list\n",
    "tuple1 = tuple ([0,1,3,4])\n",
    "print('List to tuple conversion',tuple1)"
   ]
  },
  {
   "cell_type": "code",
   "execution_count": 41,
   "id": "d849bf9b",
   "metadata": {},
   "outputs": [
    {
     "name": "stdout",
     "output_type": "stream",
     "text": [
      "String to tuple conversion ('P', 'y', 't', 'h', 'o', 'n')\n"
     ]
    }
   ],
   "source": [
    "# Creating tuple from a string\n",
    "tuple2 = tuple(('Python'))\n",
    "print('String to tuple conversion',tuple2)"
   ]
  },
  {
   "cell_type": "code",
   "execution_count": 42,
   "id": "2eca2c4b",
   "metadata": {},
   "outputs": [
    {
     "name": "stdout",
     "output_type": "stream",
     "text": [
      "Dictionary to tuple conversion (1, 2)\n"
     ]
    }
   ],
   "source": [
    "# Creating a tuple from a dictionary\n",
    "tuple3 = tuple({1: 'Vinoth', 2: 'Rama'})\n",
    "print('Dictionary to tuple conversion',tuple3)\n"
   ]
  },
  {
   "cell_type": "markdown",
   "id": "640fd436",
   "metadata": {},
   "source": [
    "# Advantages of Tuple over List"
   ]
  },
  {
   "cell_type": "code",
   "execution_count": null,
   "id": "8a46e204",
   "metadata": {},
   "outputs": [],
   "source": [
    "- If you have data that doesnt change, implementing it as tuple will guarantee that it remains write protected\n",
    "- Since tuple are immutable,iterating through tuple is faster than with list. So there is a slight perfomence boost.\n",
    "- Tuples that contain immutable elements can be used as key for a dictionary. With list, this is not possible."
   ]
  },
  {
   "cell_type": "markdown",
   "id": "a69b8865",
   "metadata": {},
   "source": [
    "# Pyhton Dictionary"
   ]
  },
  {
   "cell_type": "code",
   "execution_count": null,
   "id": "2434d2df",
   "metadata": {},
   "outputs": [],
   "source": [
    "Agenda:\n",
    "What is dictionary?\n",
    "How to create dictionary?\n",
    "How to access elements from a dictionary?\n",
    "How to access elements using Get Method?\n",
    "How to add elements in a Dictionary?\n",
    "How to update elements in a Dictionary?"
   ]
  },
  {
   "cell_type": "code",
   "execution_count": null,
   "id": "e815f878",
   "metadata": {},
   "outputs": [],
   "source": [
    "Standard Data Types\n",
    "\n",
    "1. Numbers     rollnumber = 12345\n",
    "2. String      myString = \"Python for Automation\"\n",
    "3. List        list1 = [1,2,3,4,5]\n",
    "4. Tuple       tuple1 = (1,2,3,4,5)\n",
    "5. Dictionary"
   ]
  },
  {
   "cell_type": "markdown",
   "id": "9c403c4f",
   "metadata": {},
   "source": [
    "# What is Dictionary?"
   ]
  },
  {
   "cell_type": "code",
   "execution_count": null,
   "id": "ee98a7c8",
   "metadata": {},
   "outputs": [],
   "source": [
    "- Dictionary is a python data type that is used to store 'key-value' pairs.\n",
    "EG: employee1 = {'name': 'Vinoth','address':'Chanai','Company': 'xyz'}\n",
    "- It enables to quickly retrieve,add,remove,modify,value using a key.\n",
    "- Dictionary is very similar to what we call associative array or hash on other languages.\n",
    "- Dictionaries are MUTABLE.\n",
    "- No index value concept in dictionary"
   ]
  },
  {
   "cell_type": "markdown",
   "id": "4b43c8e7",
   "metadata": {},
   "source": [
    "# How to create Dictionary?"
   ]
  },
  {
   "cell_type": "code",
   "execution_count": null,
   "id": "a92098b9",
   "metadata": {},
   "outputs": [],
   "source": [
    "- Dictionaries are represented by enclosed curly braces {}\n",
    "- Each key will have its value which is separated by a colon (:)\n",
    "- Eacc=h items are separated by commas ,"
   ]
  },
  {
   "cell_type": "code",
   "execution_count": 46,
   "id": "bdfe355a",
   "metadata": {},
   "outputs": [
    {
     "name": "stdout",
     "output_type": "stream",
     "text": [
      "Empty dictionary is created {}\n",
      "Dictionaries with integer keys are created {1: 'Red', 2: 'Yellow', 3: 'Green'}\n",
      "Dictionaries with mixed keys are created {'name': 'Vinoth', 1: ['Red', 'Blue']}\n",
      "<class 'dict'>\n"
     ]
    }
   ],
   "source": [
    "# Empty dictionary\n",
    "my_dict = {}\n",
    "print(\"Empty dictionary is created\",my_dict)\n",
    "\n",
    "# Dictionary with integer keys\n",
    "colors = {1:'Red',2:'Yellow',3:'Green'}\n",
    "print(\"Dictionaries with integer keys are created\",colors)\n",
    "\n",
    "# Dictionaries with mixed keys\n",
    "my_dict2 = {'name':'Vinoth',1:['Red','Blue']}\n",
    "print(\"Dictionaries with mixed keys are created\",my_dict2)\n",
    "\n",
    "# Checking the type\n",
    "print(type(my_dict))\n"
   ]
  },
  {
   "cell_type": "markdown",
   "id": "110a762f",
   "metadata": {},
   "source": [
    "# Note - No duplicate keys are allowed"
   ]
  },
  {
   "cell_type": "code",
   "execution_count": null,
   "id": "635537c4",
   "metadata": {},
   "outputs": [],
   "source": [
    "- When duplicate keys encountered during assignment, the last assigned key will be considered."
   ]
  },
  {
   "cell_type": "code",
   "execution_count": 47,
   "id": "7db82a22",
   "metadata": {},
   "outputs": [
    {
     "name": "stdout",
     "output_type": "stream",
     "text": [
      "Key 2 is updated with last assigned value {1: 'Red', 2: 'Blue', 3: 'Green'}\n"
     ]
    }
   ],
   "source": [
    "# Dictionary with duplicate keys\n",
    "colors = {1:'Red',2:'Yellow',3:'Green',2:'Blue'}\n",
    "print(\"Key 2 is updated with last assigned value\",colors)\n"
   ]
  },
  {
   "cell_type": "markdown",
   "id": "aa1b3da0",
   "metadata": {},
   "source": [
    "# How to access elements from a dictionary?"
   ]
  },
  {
   "cell_type": "code",
   "execution_count": null,
   "id": "54229d5b",
   "metadata": {},
   "outputs": [],
   "source": [
    "- To access dictionary elements, you can use the enclosed square brackets along with the key yo obtain its value."
   ]
  },
  {
   "cell_type": "code",
   "execution_count": 49,
   "id": "1f430d98",
   "metadata": {},
   "outputs": [
    {
     "name": "stdout",
     "output_type": "stream",
     "text": [
      "Vinoth\n",
      "Sandton\n"
     ]
    }
   ],
   "source": [
    "# Access the key which is available in the dictionary\n",
    "mydetails = {'name':'Vinoth','age':30, 'address': 'Sandton'}\n",
    "print(mydetails['name'])\n",
    "print(mydetails['address'])"
   ]
  },
  {
   "cell_type": "code",
   "execution_count": 50,
   "id": "8dd0d906",
   "metadata": {},
   "outputs": [
    {
     "ename": "KeyError",
     "evalue": "'phonenumber'",
     "output_type": "error",
     "traceback": [
      "\u001b[1;31m---------------------------------------------------------------------------\u001b[0m",
      "\u001b[1;31mKeyError\u001b[0m                                  Traceback (most recent call last)",
      "\u001b[1;32m~\\AppData\\Local\\Temp\\ipykernel_4364\\639171372.py\u001b[0m in \u001b[0;36m<module>\u001b[1;34m\u001b[0m\n\u001b[0;32m      1\u001b[0m \u001b[1;31m# Access the key which is not available in the dictionary- KeyError will be displayed\u001b[0m\u001b[1;33m\u001b[0m\u001b[1;33m\u001b[0m\u001b[0m\n\u001b[1;32m----> 2\u001b[1;33m \u001b[0mprint\u001b[0m\u001b[1;33m(\u001b[0m\u001b[0mmydetails\u001b[0m\u001b[1;33m[\u001b[0m\u001b[1;34m'phonenumber'\u001b[0m\u001b[1;33m]\u001b[0m\u001b[1;33m)\u001b[0m\u001b[1;33m\u001b[0m\u001b[1;33m\u001b[0m\u001b[0m\n\u001b[0m",
      "\u001b[1;31mKeyError\u001b[0m: 'phonenumber'"
     ]
    }
   ],
   "source": [
    "# Access the key which is not available in the dictionary- KeyError will be displayed\n",
    "print(mydetails['phonenumber'])"
   ]
  },
  {
   "cell_type": "markdown",
   "id": "0fc15f10",
   "metadata": {},
   "source": [
    "# How to access the element using Get Method?"
   ]
  },
  {
   "cell_type": "code",
   "execution_count": 52,
   "id": "bd3c9cef",
   "metadata": {},
   "outputs": [
    {
     "name": "stdout",
     "output_type": "stream",
     "text": [
      "Vinoth\n",
      "None\n"
     ]
    }
   ],
   "source": [
    "# Return value of key, if key not found it returns None, instead of throwing KeyError exception\n",
    "\n",
    "#Create a dictionary\n",
    "mydetails = {'name':'Vinoth','age':30, 'address': 'Sandton'}\n",
    "\n",
    "#Access the key which is available in the dictionary\n",
    "print(mydetails.get('name'))\n",
    "\n",
    "#Access the key which is not available in the dictionary\n",
    "print(mydetails.get('phonenumber'))\n",
    "\n",
    "#Always use Get Method to access elements"
   ]
  },
  {
   "cell_type": "markdown",
   "id": "2e964c32",
   "metadata": {},
   "source": [
    "# How to add elements(key) in a dictionary?"
   ]
  },
  {
   "cell_type": "code",
   "execution_count": null,
   "id": "43abf1ed",
   "metadata": {},
   "outputs": [],
   "source": [
    "- Dictionary are mutable, we can add new items or change the value of existing items using assignment operator '='\n",
    "- If the key is already present, value gets updated,else a new key is added."
   ]
  },
  {
   "cell_type": "code",
   "execution_count": 56,
   "id": "9160b492",
   "metadata": {},
   "outputs": [
    {
     "name": "stdout",
     "output_type": "stream",
     "text": [
      "{'name': 'Vinoth', 'age': 30, 'address': 'Sandton', 'Phonenumber': '0722131234'}\n"
     ]
    }
   ],
   "source": [
    "#Create a dictionary\n",
    "mydetails = {'name':'Vinoth','age':30, 'address': 'Sandton'}\n",
    "\n",
    "#Add phone number\n",
    "mydetails['Phonenumber'] = '0722131234'\n",
    "print(mydetails)\n"
   ]
  },
  {
   "cell_type": "markdown",
   "id": "0a4db872",
   "metadata": {},
   "source": [
    "# How to change/update existing elements(value) in a dictionary?"
   ]
  },
  {
   "cell_type": "code",
   "execution_count": 57,
   "id": "6ef5422a",
   "metadata": {},
   "outputs": [
    {
     "name": "stdout",
     "output_type": "stream",
     "text": [
      "{'name': 'Vinoth', 'age': 31, 'address': 'Sandton', 'Phonenumber': '0722131234'}\n"
     ]
    }
   ],
   "source": [
    "#Updating the value\n",
    "mydetails['age'] = 31\n",
    "print(mydetails)"
   ]
  },
  {
   "cell_type": "markdown",
   "id": "b3d6673e",
   "metadata": {},
   "source": [
    "# Python Dictionary: Deleting and Looping"
   ]
  },
  {
   "cell_type": "code",
   "execution_count": null,
   "id": "644b2150",
   "metadata": {},
   "outputs": [],
   "source": [
    "Agenda:\n",
    "- How to delete elements in a dictionary?\n",
    "- Looping items in the dictionary\n",
    "- Dictionary methods\n",
    "1. len\n",
    "2. Membership Operator\n",
    "3. Sorted\n"
   ]
  },
  {
   "cell_type": "markdown",
   "id": "ada09d8a",
   "metadata": {},
   "source": [
    "# How to delete an element in a dictionary?"
   ]
  },
  {
   "cell_type": "markdown",
   "id": "0df520d3",
   "metadata": {},
   "source": [
    "# 1. pop() Method"
   ]
  },
  {
   "cell_type": "code",
   "execution_count": 58,
   "id": "14c8edb8",
   "metadata": {},
   "outputs": [
    {
     "name": "stdout",
     "output_type": "stream",
     "text": [
      "30\n",
      "{'name': 'Vinoth', 'address': 'Sandton'}\n"
     ]
    }
   ],
   "source": [
    "# pop() method - Remove the item from the dictionary,if the key is not found keyError will be thrown\n",
    "# It will also return the removed value\n",
    "\n",
    "# Create a dictionary\n",
    "mydetails = {'name':'Vinoth','age':30, 'address': 'Sandton'}\n",
    "\n",
    "#Remove a particular item\n",
    "print(mydetails.pop('age'))\n",
    "print(mydetails)\n",
    "\n",
    "#if you try to remove a key that is not in the dictionary it will throw an error!!\n",
    "#print(mydetails.pop('email'))\n",
    "#print(mydetails)"
   ]
  },
  {
   "cell_type": "markdown",
   "id": "672a4f0b",
   "metadata": {},
   "source": [
    "# 2. popitem() Method"
   ]
  },
  {
   "cell_type": "code",
   "execution_count": 59,
   "id": "036f503f",
   "metadata": {},
   "outputs": [
    {
     "name": "stdout",
     "output_type": "stream",
     "text": [
      "('address', 'Sandton')\n",
      "{'name': 'Vinoth', 'age': 30}\n"
     ]
    }
   ],
   "source": [
    "# Create a dictionary\n",
    "mydetails = {'name':'Vinoth','age':30, 'address': 'Sandton'}\n",
    "\n",
    "# It removes the last item in the dictionary\n",
    "print(mydetails.popitem())\n",
    "print(mydetails)"
   ]
  },
  {
   "cell_type": "markdown",
   "id": "e74edffd",
   "metadata": {},
   "source": [
    "# 3. del() Keyword"
   ]
  },
  {
   "cell_type": "code",
   "execution_count": 60,
   "id": "75b89b19",
   "metadata": {},
   "outputs": [
    {
     "name": "stdout",
     "output_type": "stream",
     "text": [
      "{1: 2, 2: 2, 3: 4, 4: 53}\n"
     ]
    }
   ],
   "source": [
    "# del keyword remove individual item or the entire dictionary itself.\n",
    "\n",
    "#Sample code to delete a particular item\n",
    "# Dictionary with cubes of number\n",
    "cube = {1:2, 2:2, 3:4, 4:53, 5:123}\n",
    "\n",
    "# deletea particular key\n",
    "del cube[5]\n",
    "print(cube)\n",
    "\n",
    "# IF YOU WANT TO DELETE THE ENTIRE DICTIONARY\n",
    "# print(cube) #it will delete the entire dictionary\n",
    "\n"
   ]
  },
  {
   "cell_type": "markdown",
   "id": "6fac2512",
   "metadata": {},
   "source": [
    "# 4. clear() Method"
   ]
  },
  {
   "cell_type": "code",
   "execution_count": 63,
   "id": "f36c97ba",
   "metadata": {},
   "outputs": [
    {
     "name": "stdout",
     "output_type": "stream",
     "text": [
      "Empty dictionary is displayed {}\n"
     ]
    }
   ],
   "source": [
    "# Clear Method - All the items can be removed at once,without deleting the dictionary\n",
    "\n",
    "# Dictionary with cubes of number\n",
    "cube = {1:2, 2:2, 3:4, 4:53, 5:123}\n",
    "\n",
    "# Remove all items\n",
    "cube.clear()\n",
    "\n",
    "print(\"Empty dictionary is displayed\",cube)\n"
   ]
  },
  {
   "cell_type": "markdown",
   "id": "253e13f1",
   "metadata": {},
   "source": [
    "# Looping items in the dictionary"
   ]
  },
  {
   "cell_type": "code",
   "execution_count": 64,
   "id": "bf71cb85",
   "metadata": {},
   "outputs": [
    {
     "name": "stdout",
     "output_type": "stream",
     "text": [
      "Cube of 1 is 2\n",
      "Cube of 2 is 2\n",
      "Cube of 3 is 4\n",
      "Cube of 4 is 53\n",
      "Cube of 5 is 123\n"
     ]
    }
   ],
   "source": [
    "# Dictionary with cubes of number:\n",
    "cube = {1:2, 2:2, 3:4, 4:53, 5:123}\n",
    "for num in cube:\n",
    "    print(\"Cube of\",num,\"is\",cube[num])\n",
    "#This is how we implement loop in a dictionary."
   ]
  },
  {
   "cell_type": "markdown",
   "id": "4d74f81f",
   "metadata": {},
   "source": [
    "# 1. Length - len()"
   ]
  },
  {
   "cell_type": "code",
   "execution_count": 65,
   "id": "f57b9401",
   "metadata": {},
   "outputs": [
    {
     "name": "stdout",
     "output_type": "stream",
     "text": [
      "Length of the dictionary is 3\n"
     ]
    }
   ],
   "source": [
    "# Length of dictionary, i.e. the number of elements in the dictionary.\n",
    "\n",
    "# Create a dictionary\n",
    "mydetails = {'name':'Vinoth','age':30, 'address': 'Sandton'}\n",
    "print(\"Length of the dictionary is\",len(mydetails))\n"
   ]
  },
  {
   "cell_type": "markdown",
   "id": "23b9146c",
   "metadata": {},
   "source": [
    "# 2. Membership - 'in and not in' Operator"
   ]
  },
  {
   "cell_type": "code",
   "execution_count": 66,
   "id": "efe86bf7",
   "metadata": {},
   "outputs": [
    {
     "name": "stdout",
     "output_type": "stream",
     "text": [
      "True\n",
      "True\n"
     ]
    }
   ],
   "source": [
    "# Create a dictionary\n",
    "mydetails = {'name':'Vinoth','age':30, 'address': 'Sandton'}\n",
    "\n",
    "# Sample code for 'in' operator - True if key is in the dictionary.\n",
    "print('name' in mydetails)\n",
    "\n",
    "# Sample code for 'not in' operator - True if key is not in the dictionary.\n",
    "print('email' not in mydetails)\n"
   ]
  },
  {
   "cell_type": "markdown",
   "id": "0b2111c6",
   "metadata": {},
   "source": [
    "# 3. Sorted()"
   ]
  },
  {
   "cell_type": "code",
   "execution_count": null,
   "id": "efc42d2c",
   "metadata": {},
   "outputs": [],
   "source": [
    "- The sort()method sorts the elements of a given dictionary in a specific order - Ascending or Descending.\n",
    "- By default in ascending order\n",
    "- Sorting will be carried by taking key as reference"
   ]
  },
  {
   "cell_type": "code",
   "execution_count": 69,
   "id": "288ddc98",
   "metadata": {},
   "outputs": [
    {
     "name": "stdout",
     "output_type": "stream",
     "text": [
      "sorted dictionary: ['a', 'e', 'i', 'o', 'u']\n"
     ]
    }
   ],
   "source": [
    "# sort the vowels in ascending order\n",
    "vowels = {'e': 1,'a': 2,'u': 3,'o': 4,'i': 5}\n",
    "print('sorted dictionary:',sorted(vowels))"
   ]
  },
  {
   "cell_type": "code",
   "execution_count": 70,
   "id": "446fdebd",
   "metadata": {},
   "outputs": [
    {
     "name": "stdout",
     "output_type": "stream",
     "text": [
      "Sorted Tuple (in descending): ['u', 'o', 'i', 'e', 'a']\n"
     ]
    }
   ],
   "source": [
    "# Setting reverse=True sorts the tuples in the descending order\n",
    "vowels = {'e': 1,'a': 2,'u': 3,'o': 4,'i': 5}\n",
    "print('Sorted Tuple (in descending):', sorted(vowels,reverse=True))"
   ]
  },
  {
   "cell_type": "markdown",
   "id": "7db2dcfa",
   "metadata": {},
   "source": [
    "# Python Dictionary Methods"
   ]
  },
  {
   "cell_type": "code",
   "execution_count": null,
   "id": "5f482b5b",
   "metadata": {},
   "outputs": [],
   "source": [
    "Agenda:\n",
    "- Dictionary Methods\n",
    "- keys(), values(), items()\n",
    "- copy(), updated(), fromkeys()\n",
    "- setdefault(), dir()\n",
    "- Dictionary Comprehension"
   ]
  },
  {
   "cell_type": "markdown",
   "id": "7ca46395",
   "metadata": {},
   "source": [
    "# 4. keys()"
   ]
  },
  {
   "cell_type": "code",
   "execution_count": 71,
   "id": "72236738",
   "metadata": {},
   "outputs": [
    {
     "name": "stdout",
     "output_type": "stream",
     "text": [
      "dict_keys(['name', 'age', 'address'])\n"
     ]
    }
   ],
   "source": [
    "#Returns/displays keys available in the dictionary\n",
    "# Create a dictionary\n",
    "mydetails = {'name':'Vinoth','age':30, 'address': 'Sandton'}\n",
    "print(mydetails.keys())"
   ]
  },
  {
   "cell_type": "markdown",
   "id": "6a96ad39",
   "metadata": {},
   "source": [
    "# 5. Values()"
   ]
  },
  {
   "cell_type": "code",
   "execution_count": 72,
   "id": "90dd94c6",
   "metadata": {},
   "outputs": [
    {
     "name": "stdout",
     "output_type": "stream",
     "text": [
      "dict_values(['Vinoth', 30, 'Sandton'])\n"
     ]
    }
   ],
   "source": [
    "#Returns/displays values in the dictionary as tuples\n",
    "# Create a dictionary\n",
    "mydetails = {'name':'Vinoth','age':30, 'address': 'Sandton'}\n",
    "print(mydetails.values())"
   ]
  },
  {
   "cell_type": "markdown",
   "id": "57adfc06",
   "metadata": {},
   "source": [
    "# 6. items()"
   ]
  },
  {
   "cell_type": "code",
   "execution_count": 73,
   "id": "4ad2bd48",
   "metadata": {},
   "outputs": [
    {
     "name": "stdout",
     "output_type": "stream",
     "text": [
      "dict_items([(1, 2), (2, 2), (3, 4), (4, 53), (5, 123)])\n"
     ]
    }
   ],
   "source": [
    "#Return a new view of the dictionary items (key,value) as tuples\n",
    "# Dictionary with cubes of number\n",
    "cube = {1:2, 2:2, 3:4, 4:53, 5:123}\n",
    "print(cube.items())"
   ]
  },
  {
   "cell_type": "markdown",
   "id": "cf00d156",
   "metadata": {},
   "source": [
    "# 7. copy()"
   ]
  },
  {
   "cell_type": "code",
   "execution_count": 74,
   "id": "739de789",
   "metadata": {},
   "outputs": [
    {
     "name": "stdout",
     "output_type": "stream",
     "text": [
      "Original: {1: 2, 2: 2, 3: 4, 4: 53, 5: 123}\n",
      "New: {1: 2, 2: 2, 3: 4, 4: 53, 5: 123}\n"
     ]
    }
   ],
   "source": [
    "# Return a shallow copy of the dictionary, it doesnt modify the original dictionary.\n",
    "\n",
    "# Dictionary with cubes of number\n",
    "cube = {1:2, 2:2, 3:4, 4:53, 5:123}\n",
    "\n",
    "#cube.copy()    #this is how we do copy\n",
    "\n",
    "dictcopy = cube.copy()\n",
    "\n",
    "print('Original:',cube)\n",
    "print('New:',dictcopy)\n"
   ]
  },
  {
   "cell_type": "markdown",
   "id": "750f2ba5",
   "metadata": {},
   "source": [
    "# 8. update()"
   ]
  },
  {
   "cell_type": "code",
   "execution_count": null,
   "id": "541c20a8",
   "metadata": {},
   "outputs": [],
   "source": [
    "- The update() method inserts the specified items to the dictionary at the end, if the value is not present.\n",
    "- In case if the value is already existing, it will be updated with new value.\n",
    "- The specified items can be a dictionary, or an iterable object."
   ]
  },
  {
   "cell_type": "code",
   "execution_count": 77,
   "id": "10223f39",
   "metadata": {},
   "outputs": [
    {
     "name": "stdout",
     "output_type": "stream",
     "text": [
      "{'brand': 'Audi', 'model': 'A4', 'year': 2019, 'color': 'white'}\n",
      "{'brand': 'Audi', 'model': 'A4', 'year': 2019, 'color': 'blue'}\n",
      "{'brand': 'Audi', 'model': 'A4', 'year': 2019, 'color': 'white'}\n",
      "Dictionary after updating {'brand': 'Audi', 'model': 'A4', 'year': 2019, 'cost': '2000', 'color': 'blue'}\n"
     ]
    }
   ],
   "source": [
    "# Inserting the new value/adding or updating a new value\n",
    "#Dictionary with car details\n",
    "car = {\"brand\":\"Audi\",\"model\":\"A4\",\"year\":2019}\n",
    "car.update({\"color\":\"white\"})\n",
    "print(car)\n",
    "\n",
    "# Update an existing value in a variable\n",
    "#Dictionary with car details\n",
    "car = {\"brand\":\"Audi\",\"model\":\"A4\",\"year\":2019}\n",
    "car.update({\"color\":\"blue\"})\n",
    "print(car)\n",
    "\n",
    "#Updating the existing value\n",
    "#Dictionary with car details\n",
    "car = {\"brand\":\"Audi\",\"model\":\"A4\",\"year\":2019}\n",
    "car.update({\"color\":\"white\"})\n",
    "print(car)\n",
    "\n",
    "#Update with an iterable.\n",
    "#Dictionary with car details\n",
    "car = {\"brand\":\"Audi\",\"model\":\"A4\",\"year\":2019}\n",
    "car.update(cost = '2000',color = 'blue')\n",
    "\n",
    "print(\"Dictionary after updating\",car)\n"
   ]
  },
  {
   "cell_type": "markdown",
   "id": "dc86c506",
   "metadata": {},
   "source": [
    "# 9. fromkeys()"
   ]
  },
  {
   "cell_type": "code",
   "execution_count": null,
   "id": "91572402",
   "metadata": {},
   "outputs": [],
   "source": [
    "- The fromkeys() method creates a new dictionary from the given sequence of elements with a value\n",
    "provided by the user.\n",
    "\n",
    "The fromkeys() method takes two parameters:\n",
    "    \n",
    "1. sequence - sequence of elements which is to be used as keys for the new dictionary\n",
    "2. value (Optional) - value which is set to each each element of the dictionary"
   ]
  },
  {
   "cell_type": "code",
   "execution_count": 78,
   "id": "e36247d8",
   "metadata": {},
   "outputs": [
    {
     "data": {
      "text/plain": [
       "{'a': 'vowels', 'i': 'vowels', 'e': 'vowels', 'o': 'vowels', 'u': 'vowels'}"
      ]
     },
     "execution_count": 78,
     "metadata": {},
     "output_type": "execute_result"
    }
   ],
   "source": [
    "# Creating a dicrionary from a sequence of keys with value\n",
    "#vowel keys\n",
    "mykeys = {'e','a','u','o','i'}\n",
    "value = 'vowels'\n",
    "dict.fromkeys(mykeys,value)\n"
   ]
  },
  {
   "cell_type": "markdown",
   "id": "d7a6b174",
   "metadata": {},
   "source": [
    "# 10. setdefault()"
   ]
  },
  {
   "cell_type": "code",
   "execution_count": null,
   "id": "21efcb17",
   "metadata": {},
   "outputs": [],
   "source": [
    "The detdefault() method returns the value of a key (if the key is in dictionary). If not,\n",
    "it inserts key with a value to the dictionary."
   ]
  },
  {
   "cell_type": "code",
   "execution_count": 81,
   "id": "601bcbda",
   "metadata": {},
   "outputs": [
    {
     "name": "stdout",
     "output_type": "stream",
     "text": [
      "{'name': 'Eric', 'salalry': None}\n"
     ]
    }
   ],
   "source": [
    "#Sample code - if key is not in the dictionary\n",
    "employee = {'name':'Eric'}\n",
    "employee.setdefault('salalry')\n",
    "print(employee)"
   ]
  },
  {
   "cell_type": "code",
   "execution_count": 82,
   "id": "8c8ad8bb",
   "metadata": {},
   "outputs": [
    {
     "name": "stdout",
     "output_type": "stream",
     "text": [
      "{'name': 'Eric', 'company': 'Autopedigree'}\n"
     ]
    }
   ],
   "source": [
    "#Sample code - if key is not in the dictionary and default_value is provided\n",
    "employee = {'name':'Eric'}\n",
    "employee.setdefault('company','Autopedigree')\n",
    "print(employee)"
   ]
  },
  {
   "cell_type": "markdown",
   "id": "97b928f8",
   "metadata": {},
   "source": [
    "# 11. dir()"
   ]
  },
  {
   "cell_type": "code",
   "execution_count": 83,
   "id": "14a99d61",
   "metadata": {},
   "outputs": [
    {
     "name": "stdout",
     "output_type": "stream",
     "text": [
      "['__class__', '__class_getitem__', '__contains__', '__delattr__', '__delitem__', '__dir__', '__doc__', '__eq__', '__format__', '__ge__', '__getattribute__', '__getitem__', '__gt__', '__hash__', '__init__', '__init_subclass__', '__ior__', '__iter__', '__le__', '__len__', '__lt__', '__ne__', '__new__', '__or__', '__reduce__', '__reduce_ex__', '__repr__', '__reversed__', '__ror__', '__setattr__', '__setitem__', '__sizeof__', '__str__', '__subclasshook__', 'clear', 'copy', 'fromkeys', 'get', 'items', 'keys', 'pop', 'popitem', 'setdefault', 'update', 'values']\n"
     ]
    }
   ],
   "source": [
    "# Get list of all available methods and attributes of dictionary\n",
    "mydict = {}\n",
    "print(dir(mydict))"
   ]
  },
  {
   "cell_type": "markdown",
   "id": "9dd9cdea",
   "metadata": {},
   "source": [
    "# Dictionary Comprehension"
   ]
  },
  {
   "cell_type": "code",
   "execution_count": null,
   "id": "4282c40f",
   "metadata": {},
   "outputs": [],
   "source": [
    "- Dictionary comprehension is an elegant and concise way to create new dictionary from an iterable in python.\n",
    "- It consists of an expression pair (key: value) followed by for statement inside curly baraces {}."
   ]
  },
  {
   "cell_type": "code",
   "execution_count": 85,
   "id": "88ed37a5",
   "metadata": {},
   "outputs": [
    {
     "data": {
      "text/plain": [
       "{0: 0, 1: 1, 2: 8, 3: 27, 4: 64, 5: 125, 6: 216, 7: 343, 8: 512, 9: 729}"
      ]
     },
     "execution_count": 85,
     "metadata": {},
     "output_type": "execute_result"
    }
   ],
   "source": [
    "#Using dictinary comprehension\n",
    "\n",
    "{x: x**3 for x in range(10)}"
   ]
  },
  {
   "cell_type": "code",
   "execution_count": null,
   "id": "a90e4a46",
   "metadata": {},
   "outputs": [],
   "source": [
    "Q. we have a list of fruits and we can use dict comprehension to create a dictionary with fruits,\n",
    "the list elements as the keys and the length of each string as the values."
   ]
  },
  {
   "cell_type": "code",
   "execution_count": 86,
   "id": "1d45d23f",
   "metadata": {},
   "outputs": [
    {
     "data": {
      "text/plain": [
       "{'apple': 5, 'banana': 6, 'mango': 5}"
      ]
     },
     "execution_count": 86,
     "metadata": {},
     "output_type": "execute_result"
    }
   ],
   "source": [
    "# Cretae a list of fruits\n",
    "fruits = ['apple','banana','mango']\n",
    "\n",
    "\n",
    "# dict comprehension to create dict with fruits name as keys\n",
    "{key: len(key) for key in fruits}"
   ]
  },
  {
   "cell_type": "markdown",
   "id": "fde68721",
   "metadata": {},
   "source": [
    "# Section 6: Python Functions"
   ]
  },
  {
   "cell_type": "code",
   "execution_count": null,
   "id": "bde4ff7f",
   "metadata": {},
   "outputs": [],
   "source": [
    "Agenda:\n",
    "- 5 W and 1 H Approach\n",
    "- What is Python Functions?\n",
    "- Syntax "
   ]
  },
  {
   "cell_type": "markdown",
   "id": "d7856d3b",
   "metadata": {},
   "source": [
    "# 5 W and 1 H Approach"
   ]
  },
  {
   "cell_type": "code",
   "execution_count": null,
   "id": "89efbf03",
   "metadata": {},
   "outputs": [],
   "source": [
    "1. Why?\n",
    "2. Who?\n",
    "3. Where?\n",
    "4. When?\n",
    "5. What?\n",
    "6. How?"
   ]
  },
  {
   "cell_type": "markdown",
   "id": "cba83035",
   "metadata": {},
   "source": [
    "# What is Pythonn Functions?"
   ]
  },
  {
   "cell_type": "code",
   "execution_count": null,
   "id": "0c19dc9b",
   "metadata": {},
   "outputs": [],
   "source": [
    "- A function is a block of organized, reusable code that is used to perform a single, related action.\n",
    "- Functions help break our program into smaller and modular chuncks. As our program grows larger and larger,\n",
    "functions make it more organized and manageable.\n",
    "- Functions provide better modularity for your application and a high degree of code reusing."
   ]
  },
  {
   "cell_type": "markdown",
   "id": "5250b185",
   "metadata": {},
   "source": [
    "# Syntax of Function"
   ]
  },
  {
   "cell_type": "code",
   "execution_count": null,
   "id": "5bcb29ed",
   "metadata": {},
   "outputs": [],
   "source": [
    "def function_name(parameters):\n",
    "    \"\"\"docstring\"\"\"\n",
    "    statement(s) or coding logic\n",
    "    return [expression] - Optional"
   ]
  },
  {
   "cell_type": "markdown",
   "id": "39f33b36",
   "metadata": {},
   "source": [
    "# Rules for Creating Functions"
   ]
  },
  {
   "cell_type": "code",
   "execution_count": null,
   "id": "9d80bb15",
   "metadata": {},
   "outputs": [],
   "source": [
    "- Functions blocks begin with the keyword 'def' followed by the function name, parentheses and colon '():'\n",
    "- Any input parameters or agurments should be placed within these parentheses. You can also define\n",
    "parameters inside these parentheses. These are optional\n",
    "- Function Doc string describe in brief,what a function does..This is optional\n",
    "- Statement(s) or coding logic - Reusable code needs to be mentioned here.\n",
    "- All the statements inside the function should be indented using equal spaces.\n",
    "- The \"return[expression]\" statement will return a value from the function. This is optional\n",
    "- A return statement with no argument is the same as return None."
   ]
  },
  {
   "cell_type": "markdown",
   "id": "045fd906",
   "metadata": {},
   "source": [
    "# Example 1:"
   ]
  },
  {
   "cell_type": "code",
   "execution_count": 90,
   "id": "22177a19",
   "metadata": {},
   "outputs": [],
   "source": [
    "# Function to welcome User\n",
    "def welcomeUser(\"Samuel\"):\n",
    "    \"\"\"This function welcomes the user for python class\n",
    "    \"\"\"\n",
    "    print(\"Dear\"+ str(name) +\", Welcome to python engineering team\")"
   ]
  },
  {
   "cell_type": "markdown",
   "id": "ccdd941f",
   "metadata": {},
   "source": [
    "# How to call this function?"
   ]
  },
  {
   "cell_type": "code",
   "execution_count": null,
   "id": "2d15d988",
   "metadata": {},
   "outputs": [],
   "source": [
    "To call the function we simply type the function name with appropriate"
   ]
  },
  {
   "cell_type": "code",
   "execution_count": 91,
   "id": "39e5c9ea",
   "metadata": {},
   "outputs": [
    {
     "name": "stdout",
     "output_type": "stream",
     "text": [
      "DearSamuel, Welcome to python engineering team\n"
     ]
    }
   ],
   "source": [
    "# Calling the function\n",
    "welcomeUser(\"Samuel\")"
   ]
  },
  {
   "cell_type": "code",
   "execution_count": 93,
   "id": "386d297b",
   "metadata": {},
   "outputs": [
    {
     "name": "stdout",
     "output_type": "stream",
     "text": [
      "Dear Abdul, Welcome to python engineering team\n",
      "Dear Vidya, Welcome to python engineering team\n",
      "Dear Arab, Welcome to python engineering team\n"
     ]
    }
   ],
   "source": [
    "# Reusing the same function with different values\n",
    "welcomeUser(\" Abdul\")\n",
    "welcomeUser(\" Vidya\")\n",
    "welcomeUser(\" Arab\")"
   ]
  },
  {
   "cell_type": "code",
   "execution_count": null,
   "id": "36373baf",
   "metadata": {},
   "outputs": [],
   "source": [
    "Note: we can call from another function, program or even the python prompt. "
   ]
  },
  {
   "cell_type": "markdown",
   "id": "328c048e",
   "metadata": {},
   "source": [
    "# Example 2:"
   ]
  },
  {
   "cell_type": "code",
   "execution_count": 98,
   "id": "3959b610",
   "metadata": {},
   "outputs": [],
   "source": [
    "# Function to check whether a number is even or odd\n",
    "def verifyEvenOdd( num ):\n",
    "    if(num % 2 == 0):\n",
    "        print(\"{} is even number\".format(num))\n",
    "    else:\n",
    "        print(\"{} is odd number\".format(num))\n",
    "    "
   ]
  },
  {
   "cell_type": "code",
   "execution_count": 101,
   "id": "62c92ad3",
   "metadata": {},
   "outputs": [
    {
     "name": "stdout",
     "output_type": "stream",
     "text": [
      "2 is even number\n",
      "3 is odd number\n"
     ]
    }
   ],
   "source": [
    "# Calling the function\n",
    "verifyEvenOdd(2)\n",
    "verifyEvenOdd(3)"
   ]
  },
  {
   "cell_type": "markdown",
   "id": "ff33a0d5",
   "metadata": {},
   "source": [
    "# Doc String"
   ]
  },
  {
   "cell_type": "code",
   "execution_count": null,
   "id": "987327a6",
   "metadata": {},
   "outputs": [],
   "source": [
    "- The first string after the function header is called the docstring and is short for documentation string.\n",
    "- Although optional, documentation is a good programming practice,always document your code.\n",
    "- Doc string will be written in triple quotes so that docstring can extend up to multiple lines.\n",
    "- This string is available to us as _doc_attribute of the function."
   ]
  },
  {
   "cell_type": "code",
   "execution_count": 7,
   "id": "d3df4be8",
   "metadata": {},
   "outputs": [],
   "source": [
    "# Print doc string of the function: This will help other dev to know what the functionality is all about\n",
    "print(welcomeUser.__doc__)\n"
   ]
  },
  {
   "cell_type": "markdown",
   "id": "74b0fa9b",
   "metadata": {},
   "source": [
    "# Python Functions Part 2"
   ]
  },
  {
   "cell_type": "code",
   "execution_count": null,
   "id": "41d45f7c",
   "metadata": {},
   "outputs": [],
   "source": [
    "Agenda:\n",
    "- Function with return value\n",
    "- Scope and Life Time of Variables"
   ]
  },
  {
   "cell_type": "markdown",
   "id": "393db575",
   "metadata": {},
   "source": [
    "# Example 3:"
   ]
  },
  {
   "cell_type": "markdown",
   "id": "b9e31054",
   "metadata": {},
   "source": [
    "# Function with return value"
   ]
  },
  {
   "cell_type": "code",
   "execution_count": null,
   "id": "61ac82b8",
   "metadata": {},
   "outputs": [],
   "source": [
    "- Return statement can contain an expression which gets evaluated and the value is returned.\n",
    "- If there is no expression in the statement or the return statement itself is not present inside a function,\n",
    "then the function will return None Object.\n",
    "- The return statement is used to exit a function and go back to the place from where it was called."
   ]
  },
  {
   "cell_type": "code",
   "execution_count": 8,
   "id": "a19827c2",
   "metadata": {},
   "outputs": [
    {
     "data": {
      "text/plain": [
       "35"
      ]
     },
     "execution_count": 8,
     "metadata": {},
     "output_type": "execute_result"
    }
   ],
   "source": [
    "# Function to add two numbers and return the output\n",
    "def add(x,y):\n",
    "    return x+y\n",
    "# Calling the function\n",
    "add(10,25)"
   ]
  },
  {
   "cell_type": "markdown",
   "id": "d3573d03",
   "metadata": {},
   "source": [
    "# Scope and Life Time of Variables"
   ]
  },
  {
   "cell_type": "markdown",
   "id": "88e0ce0b",
   "metadata": {},
   "source": [
    "# 1.Global variables"
   ]
  },
  {
   "cell_type": "code",
   "execution_count": null,
   "id": "15fa77e8",
   "metadata": {},
   "outputs": [],
   "source": [
    "- Variables that are not bound to any function, but can be accessed inside-\n",
    "as well as outside the function are called global variables.\n",
    "- Lifetime of a variable is the period throughout which the variable exists in the memory."
   ]
  },
  {
   "cell_type": "markdown",
   "id": "94d4bf79",
   "metadata": {},
   "source": [
    "# 2. Local variables"
   ]
  },
  {
   "cell_type": "code",
   "execution_count": null,
   "id": "0045da83",
   "metadata": {},
   "outputs": [],
   "source": [
    "- VAriables which are declared inside a function are called local variables.\n",
    "- The lifetime of variables inside a function is as long as the function executes.\n",
    "Variables are destroyed once we return from the function."
   ]
  },
  {
   "cell_type": "markdown",
   "id": "b2263a86",
   "metadata": {},
   "source": [
    "# Example 6:"
   ]
  },
  {
   "cell_type": "code",
   "execution_count": 3,
   "id": "8a9544de",
   "metadata": {},
   "outputs": [
    {
     "name": "stdout",
     "output_type": "stream",
     "text": [
      "This is a global variable\n",
      "This is a global variable\n"
     ]
    }
   ],
   "source": [
    "# Code to verify the scope of global variable.\n",
    "\n",
    "# Declaring the global variable\n",
    "globalVar = \"This is a global variable\"\n",
    "\n",
    "def test_life_time():\n",
    "    print(globalVar) # Using global variable inside the function\n",
    "    \n",
    "# Calling the function\n",
    "test_life_time()\n",
    "\n",
    "# print global variable\n",
    "print(globalVar) #Using global variable outside the function\n",
    "\n",
    "#Note: Global variable can be accessed within a variable and outside a variable\n",
    "    "
   ]
  },
  {
   "cell_type": "markdown",
   "id": "8040c41d",
   "metadata": {},
   "source": [
    "# Example 7:"
   ]
  },
  {
   "cell_type": "code",
   "execution_count": 10,
   "id": "e891ac32",
   "metadata": {},
   "outputs": [
    {
     "name": "stdout",
     "output_type": "stream",
     "text": [
      "This is a local variable\n",
      "This is a local variable\n"
     ]
    }
   ],
   "source": [
    "# Code to verify the scope of local variable.\n",
    "# Declaring the local variable\n",
    "\n",
    "def test_life_time():\n",
    "    localVar = \"This is a local variable\"\n",
    "    print(localVar)\n",
    "    \n",
    "# Calling the function\n",
    "test_life_time()\n",
    "\n",
    "# print local variable\n",
    "print(localVar) #Using local variable outside the function\n",
    "\n",
    "#Note: If you print a local variable outside a function it will give an error!!!"
   ]
  },
  {
   "cell_type": "markdown",
   "id": "c252425a",
   "metadata": {},
   "source": [
    "# Python Function Arguments"
   ]
  },
  {
   "cell_type": "code",
   "execution_count": null,
   "id": "108f2017",
   "metadata": {},
   "outputs": [],
   "source": [
    "Agenda:\n",
    "- What is function arguments?\n",
    "- Importance of function arguments\n",
    "- Types of Arguments\n",
    "- Default Arguments\n",
    "- Keyword Arguments\n",
    "- Arbitrary Arguments"
   ]
  },
  {
   "cell_type": "markdown",
   "id": "ddd8e054",
   "metadata": {},
   "source": [
    "# Function Arguments"
   ]
  },
  {
   "cell_type": "markdown",
   "id": "19df675f",
   "metadata": {},
   "source": [
    "# Example 1"
   ]
  },
  {
   "cell_type": "code",
   "execution_count": 19,
   "id": "b3e696a2",
   "metadata": {},
   "outputs": [
    {
     "name": "stdout",
     "output_type": "stream",
     "text": [
      "Dear Samuel, We love you!\n"
     ]
    }
   ],
   "source": [
    "# Function to welcome User with greeting message - 2 Arguments\n",
    "def welcomeUser(name,message):\n",
    "    \"\"\"This function welcomes the user with greeting message\n",
    "    \"\"\"\n",
    "    print(\"Dear \"+ str(name) +\", We love you!\")\n",
    "    \n",
    "# Calling the function\n",
    "welcomeUser(\"Samuel\",\"We love you\")"
   ]
  },
  {
   "cell_type": "code",
   "execution_count": 20,
   "id": "3f8f6b5e",
   "metadata": {},
   "outputs": [
    {
     "ename": "TypeError",
     "evalue": "welcomeUser() missing 1 required positional argument: 'message'",
     "output_type": "error",
     "traceback": [
      "\u001b[1;31m---------------------------------------------------------------------------\u001b[0m",
      "\u001b[1;31mTypeError\u001b[0m                                 Traceback (most recent call last)",
      "\u001b[1;32m~\\AppData\\Local\\Temp\\ipykernel_8772\\2373403444.py\u001b[0m in \u001b[0;36m<module>\u001b[1;34m\u001b[0m\n\u001b[0;32m      1\u001b[0m \u001b[1;31m# For the above function if we pass one argument\u001b[0m\u001b[1;33m\u001b[0m\u001b[1;33m\u001b[0m\u001b[0m\n\u001b[1;32m----> 2\u001b[1;33m \u001b[0mwelcomeUser\u001b[0m\u001b[1;33m(\u001b[0m\u001b[1;34m\"Samuel\"\u001b[0m\u001b[1;33m)\u001b[0m\u001b[1;33m\u001b[0m\u001b[1;33m\u001b[0m\u001b[0m\n\u001b[0m",
      "\u001b[1;31mTypeError\u001b[0m: welcomeUser() missing 1 required positional argument: 'message'"
     ]
    }
   ],
   "source": [
    "# For the above function if we pass one argument\n",
    "welcomeUser(\"Samuel\")\n",
    "\n",
    "# We can handle this error by using:\n",
    "#1. Default arguments\n",
    "#2. Keyword arguments\n",
    "#3. Arbitrary arguments"
   ]
  },
  {
   "cell_type": "markdown",
   "id": "93f626bc",
   "metadata": {},
   "source": [
    "# 1. Default Arguments"
   ]
  },
  {
   "cell_type": "code",
   "execution_count": null,
   "id": "15a53713",
   "metadata": {},
   "outputs": [],
   "source": [
    "- A default argument is an arguments that assumes a default value if a value is not provided-\n",
    "in the function call for that argument.\n",
    "- To specify default values of argument, you just need to assign a value using assignment operator '='\n",
    "- It is also called positional arguments\n"
   ]
  },
  {
   "cell_type": "markdown",
   "id": "74c6d344",
   "metadata": {},
   "source": [
    "# Example 2"
   ]
  },
  {
   "cell_type": "code",
   "execution_count": 23,
   "id": "42b7141c",
   "metadata": {},
   "outputs": [
    {
     "name": "stdout",
     "output_type": "stream",
     "text": [
      "Dear Samuel, We love you!\n"
     ]
    }
   ],
   "source": [
    "# Function to welcome User with greeting message by providing default message\n",
    "def welcomeUser(name,message = \"We love you\"):\n",
    "    \"\"\"This function welcomes the user with greeting message\n",
    "    \"\"\"\n",
    "    print(\"Dear \"+ str(name) +\", We love you!\")\n",
    "    \n",
    "# Calling the function\n",
    "welcomeUser(\"Samuel\")"
   ]
  },
  {
   "cell_type": "markdown",
   "id": "aecdfd7f",
   "metadata": {},
   "source": [
    "# Note: Default Arguments"
   ]
  },
  {
   "cell_type": "code",
   "execution_count": null,
   "id": "edec2ac4",
   "metadata": {},
   "outputs": [],
   "source": [
    "1. Any number of arguments in a fucntion can have a default value\n",
    "2. Once we have a default argument, all the arguments to its right must also have default values\n",
    "3. Non-default arguments cannot follow default arguments"
   ]
  },
  {
   "cell_type": "markdown",
   "id": "1461d55a",
   "metadata": {},
   "source": [
    "# Example 3"
   ]
  },
  {
   "cell_type": "code",
   "execution_count": 24,
   "id": "b176c076",
   "metadata": {},
   "outputs": [
    {
     "ename": "SyntaxError",
     "evalue": "non-default argument follows default argument (3580105774.py, line 2)",
     "output_type": "error",
     "traceback": [
      "\u001b[1;36m  File \u001b[1;32m\"C:\\Users\\nkans001\\AppData\\Local\\Temp\\ipykernel_8772\\3580105774.py\"\u001b[1;36m, line \u001b[1;32m2\u001b[0m\n\u001b[1;33m    def welcomeUser(message = \"We love you\",name):\u001b[0m\n\u001b[1;37m                                                ^\u001b[0m\n\u001b[1;31mSyntaxError\u001b[0m\u001b[1;31m:\u001b[0m non-default argument follows default argument\n"
     ]
    }
   ],
   "source": [
    "# Function to welcome User with greeting message by providing default message\n",
    "def welcomeUser(message = \"We love you\",name):\n",
    "    \"\"\"This function welcomes the user with greeting message\n",
    "    \"\"\"\n",
    "    print(\"Dear \"+ str(name) +\", We love you!\")\n",
    "    \n",
    "# Calling the function\n",
    "welcomeUser(\"Samuel\")\n",
    "\n",
    "#Note it will give an error!!!"
   ]
  },
  {
   "cell_type": "markdown",
   "id": "e0e46cfc",
   "metadata": {},
   "source": [
    "# 2. Keyword Arguments"
   ]
  },
  {
   "cell_type": "code",
   "execution_count": null,
   "id": "25304d72",
   "metadata": {},
   "outputs": [],
   "source": [
    "- Keyword arguments allows you to pass each arguments using 'name value' pairs\n",
    "- When we call functions using keyword arguments, the order(position) of the arguments can be changed\n",
    "- It is fixed arguments. ie the number of arguments mentioned in functions are fixed"
   ]
  },
  {
   "cell_type": "markdown",
   "id": "14951c45",
   "metadata": {},
   "source": [
    "# Example 4"
   ]
  },
  {
   "cell_type": "code",
   "execution_count": null,
   "id": "8eb311fd",
   "metadata": {},
   "outputs": [],
   "source": [
    "- '**kwargs' can be used to send multiple arguments using single keyword ie variable-length argument list\n",
    "- It is similar to Dictionary concept"
   ]
  },
  {
   "cell_type": "code",
   "execution_count": 27,
   "id": "5390298a",
   "metadata": {},
   "outputs": [
    {
     "name": "stdout",
     "output_type": "stream",
     "text": [
      "name: Samuel\n",
      "Age: 37\n",
      "Company: Ilab\n"
     ]
    }
   ],
   "source": [
    "# Function to display the employee details using '**kwargs'\n",
    "def employeeDetails(**user):\n",
    "    \"\"\" This function is used to display the employee details\n",
    "    \"\"\"\n",
    "    print(\"name:\",user['name'])\n",
    "    print(\"Age:\", user['Age'])\n",
    "    print(\"Company:\", user['Company'])\n",
    "    \n",
    "# Calling the function\n",
    "employeeDetails(name = \"Samuel\",Age = \"37\",Company = \"Ilab\")"
   ]
  },
  {
   "cell_type": "markdown",
   "id": "bfe1030d",
   "metadata": {},
   "source": [
    "# Example 5"
   ]
  },
  {
   "cell_type": "code",
   "execution_count": 34,
   "id": "c7e957f0",
   "metadata": {},
   "outputs": [
    {
     "name": "stdout",
     "output_type": "stream",
     "text": [
      "name: Samuel\n",
      "Age: 37\n",
      "Company: Ilab\n"
     ]
    }
   ],
   "source": [
    "# Function to display the employee details by changing the position of arguments\n",
    "def employeeDetails(**user):\n",
    "    \"\"\" This function is used to display the employee details\n",
    "    \"\"\"\n",
    "    print(\"name:\",user['name'])\n",
    "    print(\"Age:\", user['Age'])\n",
    "    print(\"Company:\", user['Company'])\n",
    "    \n",
    "# Calling the function\n",
    "employeeDetails(Company = \"Ilab\",Age = \"37\",name = \"Samuel\",)\n",
    "\n",
    "#Note: even if you change the position of the details you will still get the same order(structure of the information)\n"
   ]
  },
  {
   "cell_type": "markdown",
   "id": "cb622220",
   "metadata": {},
   "source": [
    "# Example 6"
   ]
  },
  {
   "cell_type": "code",
   "execution_count": 42,
   "id": "8fa80f4a",
   "metadata": {},
   "outputs": [
    {
     "name": "stdout",
     "output_type": "stream",
     "text": [
      "Name: Samuel\n",
      "Age: 37\n",
      "Company: Ilab\n"
     ]
    }
   ],
   "source": [
    "# Function to display the employee details\n",
    "def employeeDetails(name,age,company):\n",
    "    \"\"\" This function is used to display the employee details\n",
    "    \"\"\"\n",
    "    print(\"Name:\",name)\n",
    "    print(\"Age:\", age)\n",
    "    print(\"Company:\",company)\n",
    "    \n",
    "# Calling the function\n",
    "employeeDetails(name=\"Samuel\",age=\"37\",company=\"Ilab\")"
   ]
  },
  {
   "cell_type": "markdown",
   "id": "6d42f1eb",
   "metadata": {},
   "source": [
    "# Mixing Positional and Keyword Arguments"
   ]
  },
  {
   "cell_type": "code",
   "execution_count": null,
   "id": "a6e0eabb",
   "metadata": {},
   "outputs": [],
   "source": [
    "It is possible to mix positional arguments and keyword arguments, but for this positional argument-\n",
    "must appear before any keyword arguments.\n",
    "\n",
    "EG:\n",
    "employeeDetails(\"Vinoth\",age=\"30\",company=\"Ilab\") #Valid\n",
    "employeeDetails(\"Vinoth\",age=\"30\",\"Ilab\") Valid\n",
    "\n",
    "SyntaxError: non-keyword arg after arg"
   ]
  },
  {
   "cell_type": "markdown",
   "id": "6d0f5e32",
   "metadata": {},
   "source": [
    "# 3. Arbitrary Arguments"
   ]
  },
  {
   "cell_type": "code",
   "execution_count": null,
   "id": "6fa8787a",
   "metadata": {},
   "outputs": [],
   "source": [
    "- When the number of arguments passed into a function is dynamic, ie we do not know in advance the-\n",
    "number of arguments, then it can be handled using Arbitrary Arugments.\n",
    "- In the function definition we use an asterisk (*) before the parameter name to denote it ie '*args'"
   ]
  },
  {
   "cell_type": "markdown",
   "id": "57219e8a",
   "metadata": {},
   "source": [
    "# Example 7:"
   ]
  },
  {
   "cell_type": "code",
   "execution_count": 44,
   "id": "a5fc44de",
   "metadata": {},
   "outputs": [
    {
     "name": "stdout",
     "output_type": "stream",
     "text": [
      "The value entered by user ('Vinoth', 'James', 'Tshepi')\n",
      "Dear Vinoth, Welcome to python tutorials!\n",
      "Dear James, Welcome to python tutorials!\n",
      "Dear Tshepi, Welcome to python tutorials!\n"
     ]
    }
   ],
   "source": [
    "# Function to welcome all the user with greeting message\n",
    "def welcomeUser(*names):\n",
    "    \"\"\"This function welcomes the user with greeting message\n",
    "    \"\"\"\n",
    "    print(\"The value entered by user\",names)\n",
    "    \n",
    "    for name in names:\n",
    "        print(\"Dear \"+ str(name) +\", Welcome to python tutorials!\")\n",
    "    \n",
    "#Note: Here values passed as tuples - we can do any manipulation from these tuples\n",
    "welcomeUser(\"Vinoth\",\"James\",\"Tshepi\")"
   ]
  },
  {
   "cell_type": "markdown",
   "id": "7b18fea4",
   "metadata": {},
   "source": [
    "# Python Recursive Function"
   ]
  },
  {
   "cell_type": "code",
   "execution_count": 46,
   "id": "91a70933",
   "metadata": {},
   "outputs": [
    {
     "name": "stdout",
     "output_type": "stream",
     "text": [
      "Hello user one\n"
     ]
    }
   ],
   "source": [
    "#Function one\n",
    "def welcome_user_one():\n",
    "    print(\"Hello user one\")\n",
    "welcome_user_one()"
   ]
  },
  {
   "cell_type": "code",
   "execution_count": 48,
   "id": "0b19ab3d",
   "metadata": {},
   "outputs": [
    {
     "name": "stdout",
     "output_type": "stream",
     "text": [
      "Hello user two\n",
      "Hello user one\n"
     ]
    }
   ],
   "source": [
    "# we are going to call function 1 from function 2\n",
    "def welcome_user_two():\n",
    "    print(\"Hello user two\")\n",
    "    welcome_user_one()\n",
    "\n",
    "welcome_user_two()"
   ]
  },
  {
   "cell_type": "code",
   "execution_count": 50,
   "id": "28f82172",
   "metadata": {},
   "outputs": [
    {
     "data": {
      "text/plain": [
       "120"
      ]
     },
     "execution_count": 50,
     "metadata": {},
     "output_type": "execute_result"
    }
   ],
   "source": [
    "#Program to print factorial of a number using recursive\n",
    "def factorial(num):\n",
    "    return 1 if num == 1 else (num* factorial(num-1))\n",
    "\n",
    "factorial(5)"
   ]
  },
  {
   "cell_type": "markdown",
   "id": "aeffc952",
   "metadata": {},
   "source": [
    "# Advantages of recursive"
   ]
  },
  {
   "cell_type": "code",
   "execution_count": null,
   "id": "3d6c2a2d",
   "metadata": {},
   "outputs": [],
   "source": [
    "1. Recursive functions make the code look clean and elegant.\n",
    "2. A complex task can be broken down into simpler sub-problems using recursion.\n",
    "3. Sequence generation is easier with recursion than using some nested iteration."
   ]
  },
  {
   "cell_type": "markdown",
   "id": "e7be2434",
   "metadata": {},
   "source": [
    "# Disadvantages"
   ]
  },
  {
   "cell_type": "code",
   "execution_count": null,
   "id": "cb783276",
   "metadata": {},
   "outputs": [],
   "source": [
    "1. Sometimes the logic behind recursion is hard to follow through.\n",
    "2. Recursive calls are expensive (inefficient) as they take up a lot of memory and time.\n",
    "3. Recursive functions are hard to debug."
   ]
  }
 ],
 "metadata": {
  "kernelspec": {
   "display_name": "Python 3 (ipykernel)",
   "language": "python",
   "name": "python3"
  },
  "language_info": {
   "codemirror_mode": {
    "name": "ipython",
    "version": 3
   },
   "file_extension": ".py",
   "mimetype": "text/x-python",
   "name": "python",
   "nbconvert_exporter": "python",
   "pygments_lexer": "ipython3",
   "version": "3.9.13"
  }
 },
 "nbformat": 4,
 "nbformat_minor": 5
}
